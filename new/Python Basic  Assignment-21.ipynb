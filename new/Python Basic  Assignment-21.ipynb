{
 "cells": [
  {
   "cell_type": "markdown",
   "metadata": {},
   "source": [
    "#### 1. Add the current date to the text file today.txt as a string."
   ]
  },
  {
   "cell_type": "code",
   "execution_count": 1,
   "metadata": {},
   "outputs": [],
   "source": [
    ">>> from datetime import date\n",
    ">>> now = date.today()\n",
    ">>> now_str = now.isoformat()\n",
    ">>> with open('today.txt', 'wt') as output:\n",
    "...     print(now_str, file=output)"
   ]
  },
  {
   "cell_type": "markdown",
   "metadata": {},
   "source": [
    "#### 2. Read the text file today.txt into the string today_string"
   ]
  },
  {
   "cell_type": "code",
   "execution_count": 2,
   "metadata": {},
   "outputs": [
    {
     "data": {
      "text/plain": [
       "'2021-07-11\\n'"
      ]
     },
     "execution_count": 2,
     "metadata": {},
     "output_type": "execute_result"
    }
   ],
   "source": [
    ">>> with open('today.txt', 'rt') as input:\n",
    "...     today_string = input.read()\n",
    "...\n",
    ">>> today_string"
   ]
  },
  {
   "cell_type": "markdown",
   "metadata": {},
   "source": [
    "#### 3. Parse the date from today_string."
   ]
  },
  {
   "cell_type": "code",
   "execution_count": 7,
   "metadata": {},
   "outputs": [
    {
     "data": {
      "text/plain": [
       "time.struct_time(tm_year=2021, tm_mon=7, tm_mday=11, tm_hour=0, tm_min=0, tm_sec=0, tm_wday=6, tm_yday=192, tm_isdst=-1)"
      ]
     },
     "execution_count": 7,
     "metadata": {},
     "output_type": "execute_result"
    }
   ],
   "source": [
    "import time\n",
    ">>> fmt = '%Y-%m-%d\\n'\n",
    ">>> time.strptime(today_string, fmt)"
   ]
  },
  {
   "cell_type": "markdown",
   "metadata": {},
   "source": [
    "#### 4. List the files in your current directory"
   ]
  },
  {
   "cell_type": "code",
   "execution_count": 8,
   "metadata": {},
   "outputs": [
    {
     "data": {
      "text/plain": [
       "['.ipynb_checkpoints',\n",
       " '1.+Cifar_10_with_dropout_without_BN.ipynb',\n",
       " '11K Claim Account id.pptx',\n",
       " '1409.4842.pdf',\n",
       " '1508.06576.pdf',\n",
       " '1512.03385.pdf',\n",
       " '1605.07678.pdf',\n",
       " '2.+Cifar_10_Notebook_with_BN_without_dropout.ipynb',\n",
       " '3.+Cifar_10_notebook.ipynb',\n",
       " '4.+Cifar10_l2_notebook.ipynb',\n",
       " '4824-imagenet-classification-with-deep-convolutional-neural-networks.pdf',\n",
       " '5.+Cifar10_l2_dropout_notebook.ipynb',\n",
       " '6.+Cifar10_morelayer_notebook.ipynb',\n",
       " '7.+Cifar10_feature_map.ipynb',\n",
       " '8782_44566_bundle_archive.zip',\n",
       " 'ans16.docx',\n",
       " 'Assignment+Using+Keras.ipynb',\n",
       " 'Assignment1.docx',\n",
       " 'Assignment2 (1).docx',\n",
       " 'Assignment2.docx',\n",
       " 'Assignment_12.docx',\n",
       " 'Assignment_13.docx',\n",
       " 'Assignment_14.docx',\n",
       " 'Assignment_15.docx',\n",
       " 'Assignment_16.docx',\n",
       " 'Assignment_17.docx',\n",
       " 'Assignment_18.docx',\n",
       " 'Assignment_19.docx',\n",
       " 'Assignment_20.docx',\n",
       " 'Assignment_21.docx',\n",
       " 'Assignment_NN.ipynb',\n",
       " 'BCP Expense claim via Concur (1).pdf',\n",
       " 'BCP Expense claim via Concur.pdf',\n",
       " 'Building+a+CNN+-+MNIST.ipynb',\n",
       " 'cat.png',\n",
       " 'certificate.pdf',\n",
       " 'cifar-10-python.tar.gz',\n",
       " 'CitrixReceiver.exe',\n",
       " 'classnote-1.pdf',\n",
       " 'coding',\n",
       " 'datadeepdive2.pdf',\n",
       " 'Day 1_ FINEOS KT (1).msg',\n",
       " 'Day 1_ FINEOS KT.msg',\n",
       " 'deeplearningbook.pdf',\n",
       " 'DeepLearningPractitionersApproach.pdf',\n",
       " 'deeplearningwithpython.pdf',\n",
       " 'Deep_Learning_ISBA_2015.pdf',\n",
       " 'diabetes.csv',\n",
       " 'DQN_Agent_Arch1',\n",
       " 'EAadhaar_454021765498_01042021213828_387162.pdf',\n",
       " 'Enrollment Steps.pdf',\n",
       " 'ERS.xls',\n",
       " 'Expected Value for Binomial Distribution.xlsx',\n",
       " 'geekuma1 (1).id',\n",
       " 'geeta.png',\n",
       " 'Geeta_Kumari_Resume.pdf',\n",
       " 'heroku-deployment-flaskDeploy',\n",
       " 'heroku-deployment-flaskDeploy.zip',\n",
       " 'heroku_deployment.docx',\n",
       " 'hp-bang-houseprice-prediction.ipynb',\n",
       " 'IBM-DSnP Guidelines-Quick Reference V1.pptx',\n",
       " 'ineuron',\n",
       " 'item-client.zip',\n",
       " 'jphysiol01298-0128.pdf',\n",
       " 'kaggle.json',\n",
       " 'learn-reactivespring.zip',\n",
       " 'Lecture+Notes+CNN.pdf',\n",
       " 'Lecture+Notes+Neural+Networks+M1.pdf',\n",
       " 'login.html',\n",
       " 'LSBSetup.exe',\n",
       " 'MetLife DS&P Awareness Training v 1.6_Nov 2020 (1).zip',\n",
       " 'MetLife DS&P Awareness Training v 1.6_Nov 2020 (2).zip',\n",
       " 'MetLife DS&P Awareness Training v 1.6_Nov 2020.zip',\n",
       " 'mnist.pkl.gz',\n",
       " 'model.pkl',\n",
       " 'MyReport.PDF',\n",
       " 'Neural networks and deep learning.docx',\n",
       " 'NeuralNetworkAssignment',\n",
       " 'Neural_Nets_Project_Starter_Code.ipynb',\n",
       " 'neuronalenetze-en-zeta2-1col-dkrieselcom.pdf',\n",
       " 'Notebook+instructions.zip',\n",
       " 'numpy.random.sample.html',\n",
       " 'OReilly.Fundamentals.of.Deep.Learning.2017.5.pdf',\n",
       " 'Payment_Reciept_Aadhaar_Card_2021-04-03__133404.pdf',\n",
       " 'Policy.pkl',\n",
       " 'Postman-win64-8.0.10-Setup.exe',\n",
       " 'Predicting_Diabetes.ipynb',\n",
       " 'Procuring Office Supplies_FAQs (1).pdf',\n",
       " 'Procuring Office Supplies_FAQs.pdf',\n",
       " 'Programming_Assingment10.docx',\n",
       " 'Programming_Assingment11.docx',\n",
       " 'Programming_Assingment12.docx',\n",
       " 'Programming_Assingment13.docx',\n",
       " 'Programming_Assingment14.docx',\n",
       " 'python-Programming-main',\n",
       " 'python-Programming-main.zip',\n",
       " 'RBM_assignment',\n",
       " 'RBM_assignment.zip',\n",
       " 'Reading_Digital_Image.ipynb',\n",
       " 'ReInforcement_Learning',\n",
       " 'resnet.py',\n",
       " 'Resume-Geeta Kumari (1).pdf',\n",
       " 'Resume-Geeta Kumari.pdf',\n",
       " 'RL_Cab.zip',\n",
       " 'SelfDeclarationform_Sec-80C.xls',\n",
       " 'Steps for Beekeeper Update.docx',\n",
       " 'Style_Transfer.zip',\n",
       " 'TCGame_Env1.py',\n",
       " 'Test',\n",
       " 'TicTacToe_Agent.ipynb',\n",
       " 'Train',\n",
       " 'Transfer_Learning.ipynb',\n",
       " 'Transfer_Learning_Notebook_Keras.ipynb',\n",
       " 'TSS Hardware call Registration Form.docx',\n",
       " 'Untitled.ipynb',\n",
       " 'upGrad_Online_Lab_Guide.pdf',\n",
       " 'VVNfWGVuRGVza3RvcF83MTVfU2hhcmVkX1Byb2QuVmlydHVhbCBJVCBEZXNrdG9wICRTNDAtODM-.ica',\n",
       " 'VVNfWGVuRGVza3RvcF83MTVfVkRJX1Byb2QuTWV0VkRJICRQMjgwOTU- (1).ica',\n",
       " 'VVNfWGVuRGVza3RvcF83MTVfVkRJX1Byb2QuTWV0VkRJICRQMjgwOTU- (10).ica',\n",
       " 'VVNfWGVuRGVza3RvcF83MTVfVkRJX1Byb2QuTWV0VkRJICRQMjgwOTU- (11).ica',\n",
       " 'VVNfWGVuRGVza3RvcF83MTVfVkRJX1Byb2QuTWV0VkRJICRQMjgwOTU- (12).ica',\n",
       " 'VVNfWGVuRGVza3RvcF83MTVfVkRJX1Byb2QuTWV0VkRJICRQMjgwOTU- (13).ica',\n",
       " 'VVNfWGVuRGVza3RvcF83MTVfVkRJX1Byb2QuTWV0VkRJICRQMjgwOTU- (2).ica',\n",
       " 'VVNfWGVuRGVza3RvcF83MTVfVkRJX1Byb2QuTWV0VkRJICRQMjgwOTU- (3).ica',\n",
       " 'VVNfWGVuRGVza3RvcF83MTVfVkRJX1Byb2QuTWV0VkRJICRQMjgwOTU- (4).ica',\n",
       " 'VVNfWGVuRGVza3RvcF83MTVfVkRJX1Byb2QuTWV0VkRJICRQMjgwOTU- (5).ica',\n",
       " 'VVNfWGVuRGVza3RvcF83MTVfVkRJX1Byb2QuTWV0VkRJICRQMjgwOTU- (6).ica',\n",
       " 'VVNfWGVuRGVza3RvcF83MTVfVkRJX1Byb2QuTWV0VkRJICRQMjgwOTU- (7).ica',\n",
       " 'VVNfWGVuRGVza3RvcF83MTVfVkRJX1Byb2QuTWV0VkRJICRQMjgwOTU- (8).ica',\n",
       " 'VVNfWGVuRGVza3RvcF83MTVfVkRJX1Byb2QuTWV0VkRJICRQMjgwOTU- (9).ica',\n",
       " 'VVNfWGVuRGVza3RvcF83MTVfVkRJX1Byb2QuTWV0VkRJICRQMjgwOTU-.ica',\n",
       " 'webex (1).exe',\n",
       " 'webex.exe',\n",
       " 'webprmpt.osp',\n",
       " 'WhatsApp Image 2021-04-02 at 9.29.35 PM.jpeg',\n",
       " 'who-needs-a-visa.html',\n",
       " 'Working_with_flower_dataset',\n",
       " 'Working_with_flower_dataset.zip',\n",
       " '~$ogramming_Assingment13.docx',\n",
       " '~$ogramming_Assingment14.docx',\n",
       " '~$signment2.docx']"
      ]
     },
     "execution_count": 8,
     "metadata": {},
     "output_type": "execute_result"
    }
   ],
   "source": [
    " import os\n",
    ">>> os.listdir('..')"
   ]
  },
  {
   "cell_type": "markdown",
   "metadata": {},
   "source": [
    "#### 5. Create a list of all of the files in your parent directory (minimum five files should be available)."
   ]
  },
  {
   "cell_type": "code",
   "execution_count": 9,
   "metadata": {},
   "outputs": [
    {
     "name": "stdout",
     "output_type": "stream",
     "text": [
      "['.ipynb_checkpoints', 'books.db', 'books2.csv', 'Numpy_ineuron.ipynb', 'OOPS_concept.ipynb', 'Python Assignment 20.ipynb', 'Python Assignment-21.ipynb', 'Python Basic Assignment -19-Copy1.ipynb', 'Python Basic Assignment -19.ipynb', 'test.txt', 'today.txt', 'Untitled.ipynb']\n"
     ]
    }
   ],
   "source": [
    "import os\n",
    "arr = os.listdir()\n",
    "print(arr)"
   ]
  },
  {
   "cell_type": "markdown",
   "metadata": {},
   "source": [
    "#### 6. Use multiprocessing to create three separate processes. Make each one wait a random number of seconds between one and five, print the current time, and then exit."
   ]
  },
  {
   "cell_type": "code",
   "execution_count": 10,
   "metadata": {},
   "outputs": [],
   "source": [
    "import multiprocessing\n",
    "\n",
    "def now(seconds):\n",
    "    from datetime import datetime\n",
    "    from time import sleep\n",
    "    sleep(seconds)\n",
    "    print('wait', seconds, 'seconds, time is', datetime.utcnow())\n",
    "\n",
    "if __name__ == '__main__':\n",
    "    import random\n",
    "    for n in range(3):\n",
    "        seconds = random.random()\n",
    "        proc = multiprocessing.Process(target=now, args=(seconds,))\n",
    "        proc.start()"
   ]
  },
  {
   "cell_type": "markdown",
   "metadata": {},
   "source": [
    "#### 7. Create a date object of your day of birth."
   ]
  },
  {
   "cell_type": "code",
   "execution_count": 12,
   "metadata": {},
   "outputs": [
    {
     "data": {
      "text/plain": [
       "datetime.date(1990, 6, 6)"
      ]
     },
     "execution_count": 12,
     "metadata": {},
     "output_type": "execute_result"
    }
   ],
   "source": [
    ">>> my_day = date(1990, 6, 6)\n",
    ">>> my_day"
   ]
  },
  {
   "cell_type": "markdown",
   "metadata": {},
   "source": [
    "#### 8. What day of the week was your day of birth?"
   ]
  },
  {
   "cell_type": "code",
   "execution_count": 13,
   "metadata": {},
   "outputs": [
    {
     "data": {
      "text/plain": [
       "3"
      ]
     },
     "execution_count": 13,
     "metadata": {},
     "output_type": "execute_result"
    }
   ],
   "source": [
    "my_day.isoweekday()\n",
    "#With isoweekday(), Monday is 1 and Sunday is 7 . The answer is 3 which is Wednesday"
   ]
  },
  {
   "cell_type": "markdown",
   "metadata": {},
   "source": [
    "#### 9. When will you be (or when were you) 10,000 days old?"
   ]
  },
  {
   "cell_type": "code",
   "execution_count": 14,
   "metadata": {},
   "outputs": [
    {
     "data": {
      "text/plain": [
       "datetime.date(2017, 10, 22)"
      ]
     },
     "execution_count": 14,
     "metadata": {},
     "output_type": "execute_result"
    }
   ],
   "source": [
    ">>> from datetime import timedelta\n",
    ">>> party_day = my_day + timedelta(days=10000)\n",
    ">>> party_day"
   ]
  },
  {
   "cell_type": "code",
   "execution_count": null,
   "metadata": {},
   "outputs": [],
   "source": []
  }
 ],
 "metadata": {
  "kernelspec": {
   "display_name": "Python 3",
   "language": "python",
   "name": "python3"
  },
  "language_info": {
   "codemirror_mode": {
    "name": "ipython",
    "version": 3
   },
   "file_extension": ".py",
   "mimetype": "text/x-python",
   "name": "python",
   "nbconvert_exporter": "python",
   "pygments_lexer": "ipython3",
   "version": "3.7.3"
  }
 },
 "nbformat": 4,
 "nbformat_minor": 2
}
