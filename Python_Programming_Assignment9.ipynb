{
 "cells": [
  {
   "cell_type": "markdown",
   "id": "indoor-monthly",
   "metadata": {},
   "source": [
    "1.\tWrite a Python program to check if the given number is a Disarium Number?"
   ]
  },
  {
   "cell_type": "code",
   "execution_count": 22,
   "id": "adolescent-happening",
   "metadata": {},
   "outputs": [
    {
     "name": "stdout",
     "output_type": "stream",
     "text": [
      "Enter a number : 135\n",
      "The number is Disarian number\n"
     ]
    }
   ],
   "source": [
    "num = (input('Enter a number : '))\n",
    "size = len(num)\n",
    "num = int(num)\n",
    "sum =0\n",
    "original_num = num\n",
    "\n",
    "while(num != 0):\n",
    "    r = num %10\n",
    "    sum += r**size\n",
    "    size-=1\n",
    "    num =num//10\n",
    "if(sum==original_num):\n",
    "    print('The number is Disarian number') \n",
    "else:\n",
    "    print(\"The number is not  Disarian number\")"
   ]
  },
  {
   "cell_type": "markdown",
   "id": "intimate-woman",
   "metadata": {},
   "source": [
    "2.\tWrite a Python program to print all disarium numbers between 1 to 100?"
   ]
  },
  {
   "cell_type": "code",
   "execution_count": 27,
   "id": "integrated-butterfly",
   "metadata": {},
   "outputs": [
    {
     "name": "stdout",
     "output_type": "stream",
     "text": [
      "The number 1 is Disarian number\n",
      "The number 2 is Disarian number\n",
      "The number 3 is Disarian number\n",
      "The number 4 is Disarian number\n",
      "The number 5 is Disarian number\n",
      "The number 6 is Disarian number\n",
      "The number 7 is Disarian number\n",
      "The number 8 is Disarian number\n",
      "The number 9 is Disarian number\n",
      "The number is 10 not  Disarian number\n",
      "The number is 11 not  Disarian number\n",
      "The number is 12 not  Disarian number\n",
      "The number is 13 not  Disarian number\n",
      "The number is 14 not  Disarian number\n",
      "The number is 15 not  Disarian number\n",
      "The number is 16 not  Disarian number\n",
      "The number is 17 not  Disarian number\n",
      "The number is 18 not  Disarian number\n",
      "The number is 19 not  Disarian number\n",
      "The number is 20 not  Disarian number\n",
      "The number is 21 not  Disarian number\n",
      "The number is 22 not  Disarian number\n",
      "The number is 23 not  Disarian number\n",
      "The number is 24 not  Disarian number\n",
      "The number is 25 not  Disarian number\n",
      "The number is 26 not  Disarian number\n",
      "The number is 27 not  Disarian number\n",
      "The number is 28 not  Disarian number\n",
      "The number is 29 not  Disarian number\n",
      "The number is 30 not  Disarian number\n",
      "The number is 31 not  Disarian number\n",
      "The number is 32 not  Disarian number\n",
      "The number is 33 not  Disarian number\n",
      "The number is 34 not  Disarian number\n",
      "The number is 35 not  Disarian number\n",
      "The number is 36 not  Disarian number\n",
      "The number is 37 not  Disarian number\n",
      "The number is 38 not  Disarian number\n",
      "The number is 39 not  Disarian number\n",
      "The number is 40 not  Disarian number\n",
      "The number is 41 not  Disarian number\n",
      "The number is 42 not  Disarian number\n",
      "The number is 43 not  Disarian number\n",
      "The number is 44 not  Disarian number\n",
      "The number is 45 not  Disarian number\n",
      "The number is 46 not  Disarian number\n",
      "The number is 47 not  Disarian number\n",
      "The number is 48 not  Disarian number\n",
      "The number is 49 not  Disarian number\n",
      "The number is 50 not  Disarian number\n",
      "The number is 51 not  Disarian number\n",
      "The number is 52 not  Disarian number\n",
      "The number is 53 not  Disarian number\n",
      "The number is 54 not  Disarian number\n",
      "The number is 55 not  Disarian number\n",
      "The number is 56 not  Disarian number\n",
      "The number is 57 not  Disarian number\n",
      "The number is 58 not  Disarian number\n",
      "The number is 59 not  Disarian number\n",
      "The number is 60 not  Disarian number\n",
      "The number is 61 not  Disarian number\n",
      "The number is 62 not  Disarian number\n",
      "The number is 63 not  Disarian number\n",
      "The number is 64 not  Disarian number\n",
      "The number is 65 not  Disarian number\n",
      "The number is 66 not  Disarian number\n",
      "The number is 67 not  Disarian number\n",
      "The number is 68 not  Disarian number\n",
      "The number is 69 not  Disarian number\n",
      "The number is 70 not  Disarian number\n",
      "The number is 71 not  Disarian number\n",
      "The number is 72 not  Disarian number\n",
      "The number is 73 not  Disarian number\n",
      "The number is 74 not  Disarian number\n",
      "The number is 75 not  Disarian number\n",
      "The number is 76 not  Disarian number\n",
      "The number is 77 not  Disarian number\n",
      "The number is 78 not  Disarian number\n",
      "The number is 79 not  Disarian number\n",
      "The number is 80 not  Disarian number\n",
      "The number is 81 not  Disarian number\n",
      "The number is 82 not  Disarian number\n",
      "The number is 83 not  Disarian number\n",
      "The number is 84 not  Disarian number\n",
      "The number is 85 not  Disarian number\n",
      "The number is 86 not  Disarian number\n",
      "The number is 87 not  Disarian number\n",
      "The number is 88 not  Disarian number\n",
      "The number 89 is Disarian number\n",
      "The number is 90 not  Disarian number\n",
      "The number is 91 not  Disarian number\n",
      "The number is 92 not  Disarian number\n",
      "The number is 93 not  Disarian number\n",
      "The number is 94 not  Disarian number\n",
      "The number is 95 not  Disarian number\n",
      "The number is 96 not  Disarian number\n",
      "The number is 97 not  Disarian number\n",
      "The number is 98 not  Disarian number\n",
      "The number is 99 not  Disarian number\n",
      "The number is 100 not  Disarian number\n"
     ]
    }
   ],
   "source": [
    "for i in range(1, 101):\n",
    "    size = len(str(i))\n",
    "    num = int(i)\n",
    "    sum = 0\n",
    "    original_num = i\n",
    "\n",
    "    while (i != 0):\n",
    "        r = i % 10\n",
    "        sum += r ** size\n",
    "        size -= 1\n",
    "        i = i // 10\n",
    "    if (sum == original_num):\n",
    "        print('The number {} is Disarian number'.format(original_num))\n",
    "    else:\n",
    "        print(\"The number is {} not  Disarian number\".format(original_num))\n"
   ]
  },
  {
   "cell_type": "markdown",
   "id": "flexible-qatar",
   "metadata": {},
   "source": [
    "3.\tWrite a Python program to check if the given number is Happy Number?"
   ]
  },
  {
   "cell_type": "code",
   "execution_count": 35,
   "id": "monetary-portsmouth",
   "metadata": {},
   "outputs": [
    {
     "name": "stdout",
     "output_type": "stream",
     "text": [
      "Enter a number :91\n",
      "91 is a happy number\n"
     ]
    }
   ],
   "source": [
    "def isHappyNumber(num):    \n",
    "    rem = sum = 0;    \n",
    "        \n",
    "    #Calculates the sum of squares of digits    \n",
    "    while(num > 0):    \n",
    "        rem = num%10;    \n",
    "        sum = sum + (rem*rem);    \n",
    "        num = num//10;    \n",
    "    return sum;    \n",
    "        \n",
    "num = int(input('Enter a number :' ));    \n",
    "result = num;    \n",
    "     \n",
    "while(result != 1 and result != 4):    \n",
    "    result = isHappyNumber(result);    \n",
    "     \n",
    "#Happy number always ends with 1    \n",
    "if(result == 1):    \n",
    "    print(str(num) + \" is a happy number\");    \n",
    "#Unhappy number ends in a cycle of repeating numbers which contain 4    \n",
    "elif(result == 4):    \n",
    "    print(str(num) + \" is not a happy number\");   "
   ]
  },
  {
   "cell_type": "markdown",
   "id": "little-brooklyn",
   "metadata": {},
   "source": [
    "4.\tWrite a Python program to print all happy numbers between 1 and 100?"
   ]
  },
  {
   "cell_type": "code",
   "execution_count": 36,
   "id": "western-flower",
   "metadata": {},
   "outputs": [
    {
     "name": "stdout",
     "output_type": "stream",
     "text": [
      "2 is not a happy number\n",
      "3 is not a happy number\n",
      "5 is not a happy number\n",
      "6 is not a happy number\n",
      "7 is a happy number\n",
      "8 is not a happy number\n",
      "9 is not a happy number\n",
      "10 is a happy number\n",
      "11 is not a happy number\n",
      "12 is not a happy number\n",
      "13 is a happy number\n",
      "14 is not a happy number\n",
      "15 is not a happy number\n",
      "16 is not a happy number\n",
      "17 is not a happy number\n",
      "18 is not a happy number\n",
      "19 is a happy number\n",
      "20 is not a happy number\n",
      "21 is not a happy number\n",
      "22 is not a happy number\n",
      "23 is a happy number\n",
      "24 is not a happy number\n",
      "25 is not a happy number\n",
      "26 is not a happy number\n",
      "27 is not a happy number\n",
      "28 is a happy number\n",
      "29 is not a happy number\n",
      "30 is not a happy number\n",
      "31 is a happy number\n",
      "32 is a happy number\n",
      "33 is not a happy number\n",
      "34 is not a happy number\n",
      "35 is not a happy number\n",
      "36 is not a happy number\n",
      "37 is not a happy number\n",
      "38 is not a happy number\n",
      "39 is not a happy number\n",
      "40 is not a happy number\n",
      "41 is not a happy number\n",
      "42 is not a happy number\n",
      "43 is not a happy number\n",
      "44 is a happy number\n",
      "45 is not a happy number\n",
      "46 is not a happy number\n",
      "47 is not a happy number\n",
      "48 is not a happy number\n",
      "49 is a happy number\n",
      "50 is not a happy number\n",
      "51 is not a happy number\n",
      "52 is not a happy number\n",
      "53 is not a happy number\n",
      "54 is not a happy number\n",
      "55 is not a happy number\n",
      "56 is not a happy number\n",
      "57 is not a happy number\n",
      "58 is not a happy number\n",
      "59 is not a happy number\n",
      "60 is not a happy number\n",
      "61 is not a happy number\n",
      "62 is not a happy number\n",
      "63 is not a happy number\n",
      "64 is not a happy number\n",
      "65 is not a happy number\n",
      "66 is not a happy number\n",
      "67 is not a happy number\n",
      "68 is a happy number\n",
      "69 is not a happy number\n",
      "70 is a happy number\n",
      "71 is not a happy number\n",
      "72 is not a happy number\n",
      "73 is not a happy number\n",
      "74 is not a happy number\n",
      "75 is not a happy number\n",
      "76 is not a happy number\n",
      "77 is not a happy number\n",
      "78 is not a happy number\n",
      "79 is a happy number\n",
      "80 is not a happy number\n",
      "81 is not a happy number\n",
      "82 is a happy number\n",
      "83 is not a happy number\n",
      "84 is not a happy number\n",
      "85 is not a happy number\n",
      "86 is a happy number\n",
      "87 is not a happy number\n",
      "88 is not a happy number\n",
      "89 is not a happy number\n",
      "90 is not a happy number\n",
      "91 is a happy number\n",
      "92 is not a happy number\n",
      "93 is not a happy number\n",
      "94 is a happy number\n",
      "95 is not a happy number\n",
      "96 is not a happy number\n",
      "97 is a happy number\n",
      "98 is not a happy number\n",
      "99 is not a happy number\n",
      "100 is a happy number\n"
     ]
    }
   ],
   "source": [
    "def isHappyNumber(num):\n",
    "    rem = sum = 0;\n",
    "\n",
    "    # Calculates the sum of squares of digits\n",
    "    while (num > 0):\n",
    "        rem = num % 10;\n",
    "        sum = sum + (rem * rem);\n",
    "        num = num // 10;\n",
    "    return sum;\n",
    "\n",
    "\n",
    "# num = int(input('Enter a number :' ));\n",
    "\n",
    "\n",
    "for i in range(1, 101):\n",
    "    result = i\n",
    "    while (result != 1 and result != 4):\n",
    "        result = isHappyNumber(result);\n",
    "        # Happy number always ends with 1\n",
    "        if (result == 1):\n",
    "            print(str(i) + \" is a happy number\");\n",
    "        # Unhappy number ends in a cycle of repeating numbers which contain 4\n",
    "        elif (result == 4):\n",
    "            print(str(i) + \" is not a happy number\");"
   ]
  },
  {
   "cell_type": "markdown",
   "id": "impaired-commercial",
   "metadata": {},
   "source": [
    "5.\tWrite a Python program to determine whether the given number is a Harshad Number?"
   ]
  },
  {
   "cell_type": "code",
   "execution_count": 39,
   "id": "disabled-florida",
   "metadata": {},
   "outputs": [
    {
     "name": "stdout",
     "output_type": "stream",
     "text": [
      "Enter a number : 156\n",
      "156 is a harshad number\n"
     ]
    }
   ],
   "source": [
    "num = int(input('Enter a number : '))    \n",
    "rem = sum = 0    \n",
    "     \n",
    "#Make a copy of num and store it in variable n    \n",
    "n = num;    \n",
    "     \n",
    "#Calculates sum of digits    \n",
    "while(num > 0):    \n",
    "    rem = num%10   \n",
    "    sum = sum + rem    \n",
    "    num = num//10   \n",
    "     \n",
    "#Checks whether the number is divisible by the sum of digits    \n",
    "if(n%sum == 0):    \n",
    "    print(str(n) + \" is a harshad number\")   \n",
    "else:    \n",
    "    print(str(n) + \" is not a harshad number\")  "
   ]
  },
  {
   "cell_type": "markdown",
   "id": "optional-bedroom",
   "metadata": {},
   "source": [
    "6.\tWrite a Python program to print all pronic numbers between 1 and 100?"
   ]
  },
  {
   "cell_type": "code",
   "execution_count": 42,
   "id": "facial-tattoo",
   "metadata": {},
   "outputs": [
    {
     "name": "stdout",
     "output_type": "stream",
     "text": [
      "Pronic numbers between 1 and 100: \n",
      "2 6 12 20 30 42 56 72 90 "
     ]
    }
   ],
   "source": [
    "#isPronicNumber() will determine whether a given number is a pronic number or not    \n",
    "def isPronicNumber(num):    \n",
    "    flag = False   \n",
    "        \n",
    "    for j in range(1, num+1):    \n",
    "        #Checks for pronic number by multiplying consecutive numbers    \n",
    "        if((j*(j+1)) == num):    \n",
    "            flag = True    \n",
    "            break    \n",
    "    return flag    \n",
    "     \n",
    "#Displays pronic numbers between 1 and 100    \n",
    "print(\"Pronic numbers between 1 and 100: \");    \n",
    "for i in range(1, 101):    \n",
    "    if(isPronicNumber(i)):    \n",
    "        print(i, end =\" \"),    "
   ]
  },
  {
   "cell_type": "code",
   "execution_count": null,
   "id": "intermediate-cleaning",
   "metadata": {},
   "outputs": [],
   "source": []
  }
 ],
 "metadata": {
  "kernelspec": {
   "display_name": "Python 3",
   "language": "python",
   "name": "python3"
  },
  "language_info": {
   "codemirror_mode": {
    "name": "ipython",
    "version": 3
   },
   "file_extension": ".py",
   "mimetype": "text/x-python",
   "name": "python",
   "nbconvert_exporter": "python",
   "pygments_lexer": "ipython3",
   "version": "3.9.1"
  }
 },
 "nbformat": 4,
 "nbformat_minor": 5
}
