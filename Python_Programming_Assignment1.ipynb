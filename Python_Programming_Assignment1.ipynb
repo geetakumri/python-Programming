{
 "cells": [
  {
   "cell_type": "markdown",
   "id": "thick-nitrogen",
   "metadata": {},
   "source": [
    "1.\tWrite a Python program to print \"Hello Python\"?"
   ]
  },
  {
   "cell_type": "code",
   "execution_count": 1,
   "id": "placed-burke",
   "metadata": {},
   "outputs": [
    {
     "name": "stdout",
     "output_type": "stream",
     "text": [
      "Hello Python\n"
     ]
    }
   ],
   "source": [
    "print('Hello Python')"
   ]
  },
  {
   "cell_type": "markdown",
   "id": "latin-strike",
   "metadata": {},
   "source": [
    "2.\tWrite a Python program to do arithmetical operations addition and division.?"
   ]
  },
  {
   "cell_type": "code",
   "execution_count": 10,
   "id": "twelve-college",
   "metadata": {},
   "outputs": [
    {
     "name": "stdout",
     "output_type": "stream",
     "text": [
      "Enter first number : 8\n",
      "Enter 2nd number : 2\n",
      " Addition value   : 10 and  Division value  : 4.0 \n"
     ]
    }
   ],
   "source": [
    "n1 = int(input('Enter first number : '))\n",
    "n2 = int(input('Enter 2nd number : '))\n",
    "\n",
    "add = n1 + n2\n",
    "div = n1/n2\n",
    "\n",
    "print(f' Addition value   : {add} and  Division value  : {div} ')"
   ]
  },
  {
   "cell_type": "markdown",
   "id": "structured-forest",
   "metadata": {},
   "source": [
    "3.\tWrite a Python program to find the area of a triangle?"
   ]
  },
  {
   "cell_type": "code",
   "execution_count": 11,
   "id": "previous-lewis",
   "metadata": {},
   "outputs": [
    {
     "name": "stdout",
     "output_type": "stream",
     "text": [
      "Enter base of trianlge : 2\n",
      "Enter height of triangle : 3\n",
      "area of triangle :  3.0\n"
     ]
    }
   ],
   "source": [
    "base = int(input('Enter base of trianlge : '))\n",
    "height  = int(input('Enter height of triangle : '))\n",
    "\n",
    "area_triangle = 1/2*(base*height)\n",
    "print('area of triangle : ' ,area_triangle)"
   ]
  },
  {
   "cell_type": "markdown",
   "id": "metallic-criminal",
   "metadata": {},
   "source": [
    "4.\tWrite a Python program to swap two variables?"
   ]
  },
  {
   "cell_type": "code",
   "execution_count": 13,
   "id": "opposite-still",
   "metadata": {},
   "outputs": [
    {
     "name": "stdout",
     "output_type": "stream",
     "text": [
      "Enter 1st number : 2\n",
      "Enter 2nd number : 3\n",
      "value of n1 before swap : 2\n",
      "value of n2 before swap : 3\n",
      "value of n1 after swap : 3\n",
      "value of n2 after swap : 2\n"
     ]
    }
   ],
   "source": [
    "n1 = int(input('Enter 1st number : '))\n",
    "n2 = int(input('Enter 2nd number : '))\n",
    "\n",
    "print(f'value of n1 before swap : {n1}')\n",
    "print(f'value of n2 before swap : {n2}')\n",
    "\n",
    "n1,n2 = n2,n1\n",
    "print(f'value of n1 after swap : {n1}')\n",
    "print(f'value of n2 after swap : {n2}')"
   ]
  },
  {
   "cell_type": "markdown",
   "id": "local-bundle",
   "metadata": {},
   "source": [
    "5.\tWrite a Python program to generate a random number?"
   ]
  },
  {
   "cell_type": "code",
   "execution_count": 21,
   "id": "corresponding-grain",
   "metadata": {},
   "outputs": [
    {
     "name": "stdout",
     "output_type": "stream",
     "text": [
      "Enter the range for randon number : 500000000\n",
      "Generated Random Number: 59475941\n"
     ]
    }
   ],
   "source": [
    "import random\n",
    "n = int(input('Enter the range for randon number : '))\n",
    "\n",
    "print('Generated Random Number:',random.randint(0,n+1))"
   ]
  },
  {
   "cell_type": "code",
   "execution_count": null,
   "id": "modern-looking",
   "metadata": {},
   "outputs": [],
   "source": []
  }
 ],
 "metadata": {
  "kernelspec": {
   "display_name": "Python 3",
   "language": "python",
   "name": "python3"
  },
  "language_info": {
   "codemirror_mode": {
    "name": "ipython",
    "version": 3
   },
   "file_extension": ".py",
   "mimetype": "text/x-python",
   "name": "python",
   "nbconvert_exporter": "python",
   "pygments_lexer": "ipython3",
   "version": "3.9.1"
  }
 },
 "nbformat": 4,
 "nbformat_minor": 5
}
