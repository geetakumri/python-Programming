{
 "cells": [
  {
   "cell_type": "markdown",
   "metadata": {},
   "source": [
    "Define a class with a generator which can iterate the numbers, which are divisible by 7, between a given range 0 and n."
   ]
  },
  {
   "cell_type": "code",
   "execution_count": 6,
   "metadata": {},
   "outputs": [
    {
     "name": "stdout",
     "output_type": "stream",
     "text": [
      "Enter a number between 0 to n :  100\n",
      "0\n",
      "7\n",
      "14\n",
      "21\n",
      "28\n",
      "35\n",
      "42\n",
      "49\n",
      "56\n",
      "63\n",
      "70\n",
      "77\n",
      "84\n",
      "91\n",
      "98\n"
     ]
    }
   ],
   "source": [
    "class iterator(object):\n",
    "\n",
    "    def __init__(self, n):\n",
    "        self.n = n\n",
    "\n",
    "    def divBySeven(self):\n",
    "        for i in range(0, self.n):\n",
    "            if i % 7 == 0:\n",
    "                yield i\n",
    "n = int(input('Enter a number between 0 to n :  '))\n",
    "for num in iterator(n).divBySeven():\n",
    "    print (num)"
   ]
  },
  {
   "cell_type": "markdown",
   "metadata": {},
   "source": [
    "Question 2:\n",
    "Write a program to compute the frequency of the words from the input. The output should output after sorting the key alphanumerically. \n",
    "\n",
    "Suppose the following input is supplied to the program:\n",
    "\n",
    "New to Python or choosing between Python 2 and Python 3? Read Python 2 or Python 3.\n",
    "\n",
    "Then, the output should be:\n",
    "\n",
    "2:2\n",
    "\n",
    "3.:1\n",
    "\n",
    "3?:1\n",
    "\n",
    "New:1\n",
    "\n",
    "Python:5\n",
    "\n",
    "Read:1\n",
    "\n",
    "and:1\n",
    "\n",
    "between:1\n",
    "\n",
    "choosing:1\n",
    "\n",
    "or:2\n",
    "\n",
    "to:1\n"
   ]
  },
  {
   "cell_type": "code",
   "execution_count": 18,
   "metadata": {},
   "outputs": [
    {
     "name": "stdout",
     "output_type": "stream",
     "text": [
      "Enter the string : New to Python or choosing between Python 2 and Python 3? Read Python 2 or Python 3.\n",
      "{'New': 1, 'to': 1, 'Python': 5, 'or': 2, 'choosing': 1, 'between': 1, '2': 2, 'and': 1, '3?': 1, 'Read': 1, '3.': 1}\n",
      "2 : 2\n",
      "3. : 1\n",
      "3? : 1\n",
      "New : 1\n",
      "Python : 5\n",
      "Read : 1\n",
      "and : 1\n",
      "between : 1\n",
      "choosing : 1\n",
      "or : 2\n",
      "to : 1\n"
     ]
    }
   ],
   "source": [
    "d=dict()\n",
    "s=input(\"Enter the string : \")\n",
    "for i in s.split():\n",
    "    d[i]=d.get(i,0)+1\n",
    "print(d)\n",
    "sorted_freq_dict =sorted(d.items())\n",
    "for i in sorted_freq_dict:\n",
    "    print('{0} : {1}' .format(i[0],i[1]))"
   ]
  },
  {
   "cell_type": "code",
   "execution_count": null,
   "metadata": {},
   "outputs": [],
   "source": []
  }
 ],
 "metadata": {
  "kernelspec": {
   "display_name": "Python 3",
   "language": "python",
   "name": "python3"
  },
  "language_info": {
   "codemirror_mode": {
    "name": "ipython",
    "version": 3
   },
   "file_extension": ".py",
   "mimetype": "text/x-python",
   "name": "python",
   "nbconvert_exporter": "python",
   "pygments_lexer": "ipython3",
   "version": "3.7.3"
  }
 },
 "nbformat": 4,
 "nbformat_minor": 2
}
