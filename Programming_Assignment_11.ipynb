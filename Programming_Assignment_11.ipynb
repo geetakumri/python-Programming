{
 "cells": [
  {
   "cell_type": "markdown",
   "metadata": {},
   "source": [
    "1.\tWrite a Python program to find words which are greater than given length k?"
   ]
  },
  {
   "cell_type": "code",
   "execution_count": 25,
   "metadata": {},
   "outputs": [
    {
     "name": "stdout",
     "output_type": "stream",
     "text": [
      "Enter the length3\n",
      "Enter the string : Geeta Kumari is going to be an intern at iNeuron\n",
      "['Geeta', 'Kumari', 'going', 'intern', 'iNeuron']\n"
     ]
    }
   ],
   "source": [
    "def long_words(n, str):\n",
    "    word_len = []\n",
    "    txt = str.split(\" \")\n",
    "    for x in txt:\n",
    "        if len(x) > n:\n",
    "            word_len.append(x)\n",
    "    return word_len\t\n",
    "\n",
    "n = int(input('Enter the length'))\n",
    "str1 = input('Enter the string : ')\n",
    "print(long_words(n, str1))\n"
   ]
  },
  {
   "cell_type": "markdown",
   "metadata": {},
   "source": [
    "2.\tWrite a Python program for removing i-th character from a string?"
   ]
  },
  {
   "cell_type": "code",
   "execution_count": 5,
   "metadata": {},
   "outputs": [
    {
     "name": "stdout",
     "output_type": "stream",
     "text": [
      "Enter the string : Geeta Kumari\n",
      "Enter the index : 4\n",
      "The new string is :  Geet Kumari\n"
     ]
    }
   ],
   "source": [
    "def remove_char(string, i): \n",
    "  \n",
    "    for j in range(len(string)):\n",
    "        if j == i:\n",
    "            string = string.replace(string[i], \"\", 1)\n",
    "    return string\n",
    "\n",
    "      \n",
    "string = input('Enter the string : ')\n",
    "      \n",
    "i = int(input('Enter the index : '))\n",
    "    \n",
    "print('The new string is : ' ,remove_char(string, i))"
   ]
  },
  {
   "cell_type": "markdown",
   "metadata": {},
   "source": [
    "3.\tWrite a Python program to split and join a string?"
   ]
  },
  {
   "cell_type": "code",
   "execution_count": 12,
   "metadata": {},
   "outputs": [
    {
     "name": "stdout",
     "output_type": "stream",
     "text": [
      "Enter the string : Geeta Kumari\n",
      "Splitted String is :  ['Geeta', 'Kumari']\n",
      "Joint string is :  Geeta Kumari\n"
     ]
    }
   ],
   "source": [
    "def split_join(string):\n",
    "    str_split = string.split()\n",
    "    print('Splitted String is : ',str_split)\n",
    "\n",
    "    str_join = \" \".join(str_split)\n",
    "    print('Joint string is : ',str_join)\n",
    "        \n",
    "\n",
    "str1 = input('Enter the string : ')\n",
    "split_join(str1)"
   ]
  },
  {
   "cell_type": "markdown",
   "metadata": {},
   "source": [
    "4.\tWrite a Python to check if a given string is binary string or not?"
   ]
  },
  {
   "cell_type": "code",
   "execution_count": 13,
   "metadata": {},
   "outputs": [
    {
     "name": "stdout",
     "output_type": "stream",
     "text": [
      "StringA is a binary string.\n",
      "StringB is not a binary string.\n"
     ]
    }
   ],
   "source": [
    "stringA = '0110101010111'\n",
    "b = {'0','1'}\n",
    "t = set(stringA)\n",
    "\n",
    "if b == t or t == {'0'} or t == {'1'}:\n",
    "    print(\"StringA is a binary string.\")\n",
    "else:\n",
    "    print(\"StringA is not a binary string.\")\n",
    "\n",
    "stringB = '0120101010111'\n",
    "u = set(stringB)\n",
    "\n",
    "if b == u or u == {'0'} or u == {'1'}:\n",
    "    print(\"StringB is a binary string.\")\n",
    "else:\n",
    "    print(\"StringB is not a binary string.\")"
   ]
  },
  {
   "cell_type": "markdown",
   "metadata": {},
   "source": [
    "5.\tWrite a Python program to find uncommon words from two Strings"
   ]
  },
  {
   "cell_type": "code",
   "execution_count": 26,
   "metadata": {},
   "outputs": [
    {
     "name": "stdout",
     "output_type": "stream",
     "text": [
      "Enter first sentence : Geeta Kumari\n",
      "Enter 2nd sentence : Geeta works in IT.\n",
      "The Uncommon words are :   Kumari works in IT.\n"
     ]
    }
   ],
   "source": [
    "def uncommon_words(a,b):\n",
    "    list_a = a.split()\n",
    "    list_b = b.split()\n",
    "    uc = ''\n",
    "    for i in list_a:\n",
    "        if i not in list_b:\n",
    "            uc = uc+\" \"+i\n",
    "    for j in list_b:\n",
    "        if j not in list_a:\n",
    "            uc = uc+\" \"+j\n",
    "  \n",
    "    return uc\n",
    "  \n",
    "a = input('Enter first sentence : ')\n",
    "b = input('Enter 2nd sentence : ')\n",
    "print('The Uncommon words are : ' , uncommon_words(a,b))"
   ]
  },
  {
   "cell_type": "markdown",
   "metadata": {},
   "source": [
    "6.\tWrite a Python to find all duplicate characters in string?"
   ]
  },
  {
   "cell_type": "code",
   "execution_count": 33,
   "metadata": {},
   "outputs": [
    {
     "name": "stdout",
     "output_type": "stream",
     "text": [
      "Enter the string : checking duplicates\n",
      "Duplicate characters in a given string: \n",
      "{'i', 'c', 'e'}\n"
     ]
    }
   ],
   "source": [
    "def duplicate_char(string):\n",
    "   \n",
    "    print(\"Duplicate characters in a given string: \");   \n",
    "    dup = set()\n",
    "    for i in range(0, len(string)):  \n",
    "        count = 1;  \n",
    "        for j in range(i+1, len(string)):  \n",
    "            if(string[i] == string[j] and string[i] != ' '):   \n",
    "                dup.add(string[i])\n",
    "    print(dup)\n",
    "\n",
    "\n",
    "str1 = input('Enter the string : ')\n",
    "duplicate_char(str1.lower())"
   ]
  },
  {
   "cell_type": "markdown",
   "metadata": {},
   "source": [
    "7.\tWrite a Python Program to check if a string contains any special character?"
   ]
  },
  {
   "cell_type": "code",
   "execution_count": 24,
   "metadata": {},
   "outputs": [
    {
     "name": "stdout",
     "output_type": "stream",
     "text": [
      "Enter the string : Geeta ^hh\n",
      "String contains special characters.\n"
     ]
    }
   ],
   "source": [
    "import re\n",
    "  \n",
    "def check_special(string):\n",
    "  \n",
    "    regex = re.compile('[@_!#$%^&*()<>?/\\|}{~:]') \n",
    "    \n",
    "    if(regex.search(string) == None):\n",
    "        print(\"String does not contain special character\")\n",
    "          \n",
    "    else:\n",
    "        print(\"String contains special characters.\")\n",
    "      \n",
    "\n",
    "    # Enter the string\n",
    "string = input('Enter the string : ')\n",
    "check_special(string)"
   ]
  },
  {
   "cell_type": "code",
   "execution_count": null,
   "metadata": {},
   "outputs": [],
   "source": []
  }
 ],
 "metadata": {
  "kernelspec": {
   "display_name": "Python 3",
   "language": "python",
   "name": "python3"
  },
  "language_info": {
   "codemirror_mode": {
    "name": "ipython",
    "version": 3
   },
   "file_extension": ".py",
   "mimetype": "text/x-python",
   "name": "python",
   "nbconvert_exporter": "python",
   "pygments_lexer": "ipython3",
   "version": "3.7.3"
  }
 },
 "nbformat": 4,
 "nbformat_minor": 2
}
