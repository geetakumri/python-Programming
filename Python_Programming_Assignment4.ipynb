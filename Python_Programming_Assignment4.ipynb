{
 "cells": [
  {
   "cell_type": "markdown",
   "id": "living-rwanda",
   "metadata": {},
   "source": [
    "1.\tWrite a Python Program to Find the Factorial of a Number?"
   ]
  },
  {
   "cell_type": "code",
   "execution_count": 3,
   "id": "monthly-stopping",
   "metadata": {},
   "outputs": [
    {
     "name": "stdout",
     "output_type": "stream",
     "text": [
      "Enter a number : 5\n",
      "sum of factorial :  120\n"
     ]
    }
   ],
   "source": [
    "n = int(input('Enter a number : '))\n",
    "sum = 1\n",
    "while (n>0):\n",
    "    sum*=n\n",
    "    n-=1\n",
    "print('sum of factorial : ', sum)\n",
    "    "
   ]
  },
  {
   "cell_type": "markdown",
   "id": "silent-insured",
   "metadata": {},
   "source": [
    "2.\tWrite a Python Program to Display the multiplication Table?"
   ]
  },
  {
   "cell_type": "code",
   "execution_count": 5,
   "id": "infinite-occurrence",
   "metadata": {},
   "outputs": [
    {
     "name": "stdout",
     "output_type": "stream",
     "text": [
      "Enter a number : 5\n",
      "5*1 = 5\n",
      "5*2 = 10\n",
      "5*3 = 15\n",
      "5*4 = 20\n",
      "5*5 = 25\n",
      "5*6 = 30\n",
      "5*7 = 35\n",
      "5*8 = 40\n",
      "5*9 = 45\n",
      "5*10 = 50\n"
     ]
    }
   ],
   "source": [
    "n = int(input('Enter a number : '))\n",
    "for i in range (1,11):\n",
    "    print('{0}*{1} = {2}'.format(n,i,n*i))"
   ]
  },
  {
   "cell_type": "markdown",
   "id": "meaning-preliminary",
   "metadata": {},
   "source": [
    "3.\tWrite a Python Program to Print the Fibonacci sequence?"
   ]
  },
  {
   "cell_type": "code",
   "execution_count": 12,
   "id": "general-gates",
   "metadata": {},
   "outputs": [
    {
     "name": "stdout",
     "output_type": "stream",
     "text": [
      "Enter the number of sequence : 8\n",
      "0\n",
      "1\n",
      "1\n",
      "2\n",
      "3\n",
      "5\n",
      "8\n",
      "13\n"
     ]
    }
   ],
   "source": [
    "n = int(input('Enter the number of sequence : '))\n",
    "f1 = 0\n",
    "f2 = 1\n",
    "f3 = 2\n",
    "if(n <1):\n",
    "    print('The sequence is {}'.format(f1))\n",
    "#if(n==1):\n",
    "    #print('The sequence is {0} {1}'.format(f1,f2))\n",
    "if (n >=1):\n",
    "    #print('The sequence is : {0} {1}'.format(f1,f2))\n",
    "    for i in range(0 , n):\n",
    "        print(f1)\n",
    "        f3 = f1 + f2\n",
    "        f1 = f2 \n",
    "        f2 = f3  "
   ]
  },
  {
   "cell_type": "markdown",
   "id": "spanish-family",
   "metadata": {},
   "source": [
    "4.\tWrite a Python Program to Check Armstrong Number?"
   ]
  },
  {
   "cell_type": "code",
   "execution_count": 52,
   "id": "aquatic-england",
   "metadata": {},
   "outputs": [
    {
     "name": "stdout",
     "output_type": "stream",
     "text": [
      "Enter number to check Armstrong : 467\n",
      "The number 467 is not a Armstrong\n"
     ]
    }
   ],
   "source": [
    "num = int(input('Enter number to check Armstrong : '))\n",
    "# order of number\n",
    "pow = len(str(num))\n",
    "sum = 0\n",
    "temp = num\n",
    "while temp > 0:\n",
    "    rem = temp % 10\n",
    "    sum += rem ** pow\n",
    "    temp //= 10\n",
    "\n",
    "if num == sum:\n",
    "    print('The number {} is Armstrong'.format(num))\n",
    "else:\n",
    "    print('The number {} is not a Armstrong'.format(num))"
   ]
  },
  {
   "cell_type": "markdown",
   "id": "inside-movement",
   "metadata": {},
   "source": [
    "5.\tWrite a Python Program to Find Armstrong Number in an Interval?"
   ]
  },
  {
   "cell_type": "code",
   "execution_count": 53,
   "id": "indonesian-situation",
   "metadata": {},
   "outputs": [
    {
     "name": "stdout",
     "output_type": "stream",
     "text": [
      "Enter the lower limit for the intervel : 5\n",
      "Enter the upper limit for the interval : 12654\n",
      "5\n",
      "6\n",
      "7\n",
      "8\n",
      "9\n",
      "153\n",
      "370\n",
      "371\n",
      "407\n",
      "1634\n",
      "8208\n",
      "9474\n"
     ]
    }
   ],
   "source": [
    "lower = int(input('Enter the lower limit for the intervel : '))\n",
    "upper = int(input('Enter the upper limit for the interval : '))\n",
    "\n",
    "for num in range(lower, upper + 1):\n",
    "\n",
    "    # order of number\n",
    "    pow = len(str(num))\n",
    "\n",
    "    sum = 0\n",
    "    temp = num\n",
    "    while temp > 0:\n",
    "        rem = temp % 10\n",
    "        sum += rem ** pow\n",
    "        temp //= 10\n",
    "\n",
    "    if num == sum:\n",
    "        print(num)"
   ]
  },
  {
   "cell_type": "markdown",
   "id": "consolidated-commitment",
   "metadata": {},
   "source": [
    "6.\tWrite a Python Program to Find the Sum of Natural Numbers?"
   ]
  },
  {
   "cell_type": "code",
   "execution_count": 55,
   "id": "naked-baseball",
   "metadata": {},
   "outputs": [
    {
     "name": "stdout",
     "output_type": "stream",
     "text": [
      "Enter the number : 5\n",
      "Sum of natural numbers :  15.0\n"
     ]
    }
   ],
   "source": [
    "# sum of n natural number : n*(n+1)/2\n",
    "n = int(input('Enter the number : '))\n",
    "\n",
    "print('Sum of natural numbers : ',n*(n+1)/2)"
   ]
  },
  {
   "cell_type": "code",
   "execution_count": null,
   "id": "portuguese-carroll",
   "metadata": {},
   "outputs": [],
   "source": []
  }
 ],
 "metadata": {
  "kernelspec": {
   "display_name": "Python 3",
   "language": "python",
   "name": "python3"
  },
  "language_info": {
   "codemirror_mode": {
    "name": "ipython",
    "version": 3
   },
   "file_extension": ".py",
   "mimetype": "text/x-python",
   "name": "python",
   "nbconvert_exporter": "python",
   "pygments_lexer": "ipython3",
   "version": "3.9.1"
  }
 },
 "nbformat": 4,
 "nbformat_minor": 5
}
