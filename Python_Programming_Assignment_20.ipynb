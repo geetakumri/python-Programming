{
 "cells": [
  {
   "cell_type": "markdown",
   "id": "pursuant-cricket",
   "metadata": {},
   "source": [
    "Question1\n",
    "Create a function that takes a list of strings and integers, and filters out the list so that it returns a list of integers only.\n",
    "Examples\n",
    "filter_list([1, 2, 3, \"a\", \"b\", 4]) ➞ [1, 2, 3, 4]\n",
    "\n",
    "filter_list([\"A\", 0, \"Edabit\", 1729, \"Python\", \"1729\"]) ➞ [0, 1729]\n",
    "\n",
    "filter_list([\"Nothing\", \"here\"]) ➞ []\n"
   ]
  },
  {
   "cell_type": "code",
   "execution_count": 3,
   "id": "major-fighter",
   "metadata": {},
   "outputs": [
    {
     "name": "stdout",
     "output_type": "stream",
     "text": [
      "[1, 2, 3, 4]\n",
      "[0, 1729]\n",
      "[]\n"
     ]
    }
   ],
   "source": [
    "def filter_list(lst):\n",
    "    int_list = []\n",
    "    for i in lst :\n",
    "        if isinstance(i, int):\n",
    "            int_list.append(i)\n",
    "    return int_list\n",
    "\n",
    "print(filter_list([1, 2, 3, \"a\", \"b\", 4]))\n",
    "print(filter_list([\"A\", 0, \"Edabit\", 1729, \"Python\", \"1729\"]))\n",
    "print(filter_list([\"Nothing\", \"here\"]))"
   ]
  },
  {
   "cell_type": "markdown",
   "id": "metric-tenant",
   "metadata": {},
   "source": [
    "Question2\n",
    "Given a list of numbers, create a function which returns the list but with each element's index in the list added to itself. This means you add 0 to the number at index 0, add 1 to the number at index 1, etc...\n",
    "Examples\n",
    "add_indexes([0, 0, 0, 0, 0]) ➞ [0, 1, 2, 3, 4]\n",
    "\n",
    "add_indexes([1, 2, 3, 4, 5]) ➞ [1, 3, 5, 7, 9]\n",
    "\n",
    "add_indexes([5, 4, 3, 2, 1]) ➞ [5, 5, 5, 5, 5]\n",
    "\n"
   ]
  },
  {
   "cell_type": "code",
   "execution_count": 9,
   "id": "threaded-sender",
   "metadata": {},
   "outputs": [
    {
     "name": "stdout",
     "output_type": "stream",
     "text": [
      "[1, 3, 5, 7, 9]\n",
      "[5, 5, 5, 5, 5]\n"
     ]
    }
   ],
   "source": [
    " def add_indexes(lst):\n",
    "        new_lst = []\n",
    "        for i in range(0, len(lst)):\n",
    "            new_lst.append(lst[i]+i)\n",
    "        return new_lst\n",
    "\n",
    "print(add_indexes([1, 2, 3, 4, 5]))\n",
    "print(add_indexes([5,4,3,2,1]))"
   ]
  },
  {
   "cell_type": "markdown",
   "id": "round-dispute",
   "metadata": {},
   "source": [
    "Question3\n",
    "Create a function that takes the height and radius of a cone as arguments and returns the volume of the cone rounded to the nearest hundredth. See the resources tab for the formula.\n",
    " \n",
    "Examples\n",
    "cone_volume(3, 2) ➞ 12.57\n",
    "\n",
    "cone_volume(15, 6) ➞ 565.49\n",
    "\n",
    "cone_volume(18, 0) ➞ 0\n",
    "\n"
   ]
  },
  {
   "cell_type": "code",
   "execution_count": 4,
   "id": "announced-sequence",
   "metadata": {},
   "outputs": [
    {
     "name": "stdout",
     "output_type": "stream",
     "text": [
      "volume of the cone=12.57\n",
      "volume of the cone=565.71\n",
      "volume of the cone=0.0\n"
     ]
    }
   ],
   "source": [
    "def cone_volume(height , radius):\n",
    "    pie=3.14285714286  \n",
    "    volume= round(pie*(radius*radius)*height/3 ,2)\n",
    "    print(\"volume of the cone=\"+str(volume))\n",
    "\n",
    "cone_volume(3,2)\n",
    "cone_volume(15,6)\n",
    "cone_volume(18,0)"
   ]
  },
  {
   "cell_type": "markdown",
   "id": "electrical-guarantee",
   "metadata": {},
   "source": [
    "Question4\n",
    "This Triangular Number Sequence is generated from a pattern of dots that form a triangle. The first 5 numbers of the sequence, or dots, are: \n",
    "1, 3, 6, 10, 15\n",
    "This means that the first triangle has just one dot, the second one has three dots, the third one has 6 dots and so on.\n",
    "Write a function that gives the number of dots with its corresponding triangle number of the sequence.\n",
    "Examples\n",
    "triangle(1) ➞ 1\n",
    "\n",
    "triangle(6) ➞ 21\n",
    "\n",
    "triangle(215) ➞ 23220\n"
   ]
  },
  {
   "cell_type": "code",
   "execution_count": 6,
   "id": "pleasant-ticket",
   "metadata": {},
   "outputs": [
    {
     "name": "stdout",
     "output_type": "stream",
     "text": [
      "The triangular number is: 21\n",
      "The triangular number is: 23220\n"
     ]
    }
   ],
   "source": [
    "def triangle(n):\n",
    "    \n",
    "    return int(n*(n+1)/2)\n",
    "\n",
    "print(\"The triangular number is: \" + str(triangle(6)))  \n",
    "print(\"The triangular number is: \" + str(triangle(215)))\n"
   ]
  },
  {
   "cell_type": "markdown",
   "id": "introductory-norwegian",
   "metadata": {},
   "source": [
    "Question5\n",
    "Create a function that takes a list of numbers between 1 and 10 (excluding one number) and returns the missing number.\n",
    "Examples\n",
    "missing_num([1, 2, 3, 4, 6, 7, 8, 9, 10]) ➞ 5\n",
    "\n",
    "missing_num([7, 2, 3, 6, 5, 9, 1, 4, 8]) ➞ 10\n",
    "\n",
    "missing_num([10, 5, 1, 2, 4, 6, 8, 3, 9]) ➞ 7\n",
    "\n"
   ]
  },
  {
   "cell_type": "code",
   "execution_count": 8,
   "id": "simplified-nancy",
   "metadata": {},
   "outputs": [
    {
     "name": "stdout",
     "output_type": "stream",
     "text": [
      "The missing number is 6\n"
     ]
    }
   ],
   "source": [
    "# Find the missing number in a given list\n",
    "def getMissingNumber(A):\n",
    " \n",
    "    # get the array's length\n",
    "    n = len(A)\n",
    " \n",
    "    # actual size is `n+1` since a number is missing from the list\n",
    "    m = n + 1\n",
    " \n",
    "    # get a sum of integers between 1 and `n+1`\n",
    "    total = m * (m + 1) // 2\n",
    " \n",
    "    # the missing number \n",
    "    return total - sum(A)\n",
    " \n",
    " \n",
    "if __name__ == '__main__':\n",
    " \n",
    "    A = [1, 2, 3, 4, 5, 7, 8, 9, 10]\n",
    " \n",
    "    print(\"The missing number is\", getMissingNumber(A))"
   ]
  },
  {
   "cell_type": "code",
   "execution_count": null,
   "id": "geological-gospel",
   "metadata": {},
   "outputs": [],
   "source": []
  }
 ],
 "metadata": {
  "kernelspec": {
   "display_name": "Python 3",
   "language": "python",
   "name": "python3"
  },
  "language_info": {
   "codemirror_mode": {
    "name": "ipython",
    "version": 3
   },
   "file_extension": ".py",
   "mimetype": "text/x-python",
   "name": "python",
   "nbconvert_exporter": "python",
   "pygments_lexer": "ipython3",
   "version": "3.9.1"
  }
 },
 "nbformat": 4,
 "nbformat_minor": 5
}
