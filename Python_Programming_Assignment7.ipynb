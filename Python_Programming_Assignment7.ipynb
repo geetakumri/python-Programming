{
 "cells": [
  {
   "cell_type": "markdown",
   "id": "numerous-mention",
   "metadata": {},
   "source": [
    "1.\tWrite a Python Program to find sum of array?"
   ]
  },
  {
   "cell_type": "code",
   "execution_count": 13,
   "id": "fixed-projector",
   "metadata": {},
   "outputs": [
    {
     "name": "stdout",
     "output_type": "stream",
     "text": [
      "Enter size on an array : 5\n",
      "Enter array element :\n",
      "1\n",
      "2\n",
      "3\n",
      "4\n",
      "5\n",
      "Sum of array : 15\n"
     ]
    }
   ],
   "source": [
    "n = int(input('Enter size on an array : '))\n",
    "arr = []\n",
    "print('Enter array element :')\n",
    "for i in range(0,n):\n",
    "    arr.append(int(input( )))\n",
    "\n",
    "sum = 0 \n",
    "for i in range(0, n):\n",
    "    sum = sum+arr[i]\n",
    "print('Sum of array : {}'.format(sum))"
   ]
  },
  {
   "cell_type": "markdown",
   "id": "external-boxing",
   "metadata": {},
   "source": [
    "2.\tWrite a Python Program to find largest element in an array?"
   ]
  },
  {
   "cell_type": "code",
   "execution_count": 14,
   "id": "friendly-chest",
   "metadata": {},
   "outputs": [
    {
     "name": "stdout",
     "output_type": "stream",
     "text": [
      "Enter size on an array : 5\n",
      "Enter array element :\n",
      "4\n",
      "48\n",
      "-9\n",
      "98\n",
      "15\n",
      "Maximun element is 98 \n"
     ]
    }
   ],
   "source": [
    "n = int(input('Enter size on an array : '))\n",
    "arr = []\n",
    "print('Enter array element :')\n",
    "for i in range(0,n):\n",
    "    arr.append(int(input()))\n",
    "max = arr[0]\n",
    "for i in range(0,n):\n",
    "     if(max<arr[i]):\n",
    "            max = arr[i]\n",
    "print('Maximun element is {} '.format(max))"
   ]
  },
  {
   "cell_type": "markdown",
   "id": "defined-crisis",
   "metadata": {},
   "source": [
    "3.\tWrite a Python Program for array rotation?"
   ]
  },
  {
   "cell_type": "code",
   "execution_count": 11,
   "id": "suspected-cabinet",
   "metadata": {},
   "outputs": [
    {
     "name": "stdout",
     "output_type": "stream",
     "text": [
      "Enter the size: 5\n",
      "Enter Elements\n",
      "1\n",
      "2\n",
      "3\n",
      "4\n",
      "5\n",
      "Enter the postion  : 2\n",
      "[3, 4, 5, 1, 2]\n"
     ]
    }
   ],
   "source": [
    "lst = []\n",
    "size = int(input('Enter the size: '))\n",
    "print('Enter Elements')\n",
    "for i in range (0, size):\n",
    "    lst.append(int(input()))\n",
    "\n",
    "\n",
    "k = int(input('Enter the postion  : '))\n",
    "n = len(lst)\n",
    "result  = n *[None]\n",
    "for i in range(0 , n):\n",
    "    if (i>=k) :\n",
    "        new_pos = i-k\n",
    "    else:\n",
    "        new_pos = n-k + i\n",
    "    result[new_pos] = lst[i]\n",
    "print(result)"
   ]
  },
  {
   "cell_type": "markdown",
   "id": "civil-suffering",
   "metadata": {},
   "source": [
    "4.\tWrite a Python Program to Split the array and add the first part to the end"
   ]
  },
  {
   "cell_type": "markdown",
   "id": "invalid-macintosh",
   "metadata": {},
   "source": [
    "Method1:"
   ]
  },
  {
   "cell_type": "code",
   "execution_count": 15,
   "id": "crucial-hayes",
   "metadata": {},
   "outputs": [
    {
     "name": "stdout",
     "output_type": "stream",
     "text": [
      "Enter the size: 5\n",
      "Enter array element :\n",
      "1\n",
      "2\n",
      "3\n",
      "4\n",
      "5\n",
      "Enter the postion for split : 2\n",
      "[3, 4, 5, 1, 2]\n"
     ]
    }
   ],
   "source": [
    "arr = []\n",
    "size = int(input('Enter the size: '))\n",
    "print('Enter array element :')\n",
    "for i in range (0, size):\n",
    "    arr.append(int(input()))\n",
    "\n",
    "\n",
    "n = int(input('Enter the postion for split : '))\n",
    "new_arr = []\n",
    "\n",
    "for i in range( n,len(arr)):\n",
    "    new_arr.append(arr[i])\n",
    "for i in range(0,n):\n",
    "    new_arr.append(arr[i])\n",
    "print(new_arr)\n"
   ]
  },
  {
   "cell_type": "markdown",
   "id": "devoted-aquarium",
   "metadata": {},
   "source": [
    "Method2:"
   ]
  },
  {
   "cell_type": "code",
   "execution_count": 12,
   "id": "cordless-branch",
   "metadata": {},
   "outputs": [
    {
     "name": "stdout",
     "output_type": "stream",
     "text": [
      "Enter the size: 6\n",
      "Enter Elements\n",
      "1\n",
      "2\n",
      "3\n",
      "4\n",
      "5\n",
      "6\n",
      "Enter the postion for split : 3\n",
      "[4, 5, 6, 1, 2, 3]\n"
     ]
    }
   ],
   "source": [
    "lst = []\n",
    "size = int(input('Enter the size: '))\n",
    "print('Enter Elements')\n",
    "for i in range (0, size):\n",
    "    lst.append(int(input()))\n",
    "\n",
    "\n",
    "k = int(input('Enter the postion for split : '))\n",
    "n = len(lst)\n",
    "result  = n *[None]\n",
    "for i in range(0 , n):\n",
    "    if (i>=k) :\n",
    "        new_pos = i-k\n",
    "    else:\n",
    "        new_pos = n-k + i\n",
    "    result[new_pos] = lst[i]\n",
    "print(result)\n"
   ]
  },
  {
   "cell_type": "markdown",
   "id": "handmade-cruise",
   "metadata": {},
   "source": [
    "5.\tWrite a Python Program to check if given array is Monotonic?"
   ]
  },
  {
   "cell_type": "code",
   "execution_count": 10,
   "id": "anticipated-royal",
   "metadata": {},
   "outputs": [
    {
     "name": "stdout",
     "output_type": "stream",
     "text": [
      "Enter the size: 5\n",
      "Enter Elements\n",
      "1\n",
      "4\n",
      "8\n",
      "45\n",
      "65\n",
      "True\n"
     ]
    }
   ],
   "source": [
    "class Monotonic :\n",
    "    def isMonotonic(self, A):\n",
    "        return (all(A[i] <= A[i+1] for i in range(len(A) - 1)) or\n",
    "                all(A[i] >= A[i+1] for i in range(len(A) - 1)))\n",
    "\n",
    "lst = []\n",
    "size = int(input('Enter the size: '))\n",
    "print('Enter Elements')\n",
    "for i in range (0, size):\n",
    "    lst.append(int(input()))\n",
    "\n",
    "obj = Monotonic()\n",
    "\n",
    "print(obj.isMonotonic(lst))"
   ]
  },
  {
   "cell_type": "code",
   "execution_count": null,
   "id": "completed-vocabulary",
   "metadata": {},
   "outputs": [],
   "source": []
  }
 ],
 "metadata": {
  "kernelspec": {
   "display_name": "Python 3",
   "language": "python",
   "name": "python3"
  },
  "language_info": {
   "codemirror_mode": {
    "name": "ipython",
    "version": 3
   },
   "file_extension": ".py",
   "mimetype": "text/x-python",
   "name": "python",
   "nbconvert_exporter": "python",
   "pygments_lexer": "ipython3",
   "version": "3.9.1"
  }
 },
 "nbformat": 4,
 "nbformat_minor": 5
}
