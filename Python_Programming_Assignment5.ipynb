{
 "cells": [
  {
   "cell_type": "markdown",
   "id": "auburn-cedar",
   "metadata": {},
   "source": [
    "1.\tWrite a Python Program to Find LCM?"
   ]
  },
  {
   "cell_type": "code",
   "execution_count": 12,
   "id": "invisible-specific",
   "metadata": {},
   "outputs": [
    {
     "name": "stdout",
     "output_type": "stream",
     "text": [
      "Enter a number : 18\n",
      "Enter a number : 24\n",
      "72.0\n"
     ]
    }
   ],
   "source": [
    "def calculate_LCM( a, b):\n",
    "    gcd = 1\n",
    "    i = 1\n",
    "    while(i<=a and i<=b):\n",
    "        if a%i ==0 and b%i==0:\n",
    "            gcd =i\n",
    "        i+=1\n",
    "    return ((a*b) /gcd)\n",
    "a = int(input('Enter a number : '))\n",
    "b = int(input('Enter a number : '))\n",
    "print(calculate_LCM(a,b))\n"
   ]
  },
  {
   "cell_type": "markdown",
   "id": "specialized-spirit",
   "metadata": {},
   "source": [
    "2.\tWrite a Python Program to Find HCF?\n",
    "\n"
   ]
  },
  {
   "cell_type": "code",
   "execution_count": 15,
   "id": "adolescent-waters",
   "metadata": {},
   "outputs": [
    {
     "name": "stdout",
     "output_type": "stream",
     "text": [
      "Enter first number:8\n",
      "Enter second number:7\n",
      "GCD is:  1\n"
     ]
    }
   ],
   "source": [
    "def calculate_GCD(a,b):\n",
    "    if(b==0):\n",
    "        return a\n",
    "    else:\n",
    "        return gcd(b,a%b)\n",
    "a = int(input(\"Enter first number:\"))\n",
    "b = int(input(\"Enter second number:\"))\n",
    "gcd = calculate_GCD(a,b)\n",
    "print(\"GCD is: \",gcd)\n"
   ]
  },
  {
   "cell_type": "markdown",
   "id": "temporal-communication",
   "metadata": {},
   "source": [
    "3.\tWrite a Python Program to Convert Decimal to Binary, Octal and Hexadecimal?\n"
   ]
  },
  {
   "cell_type": "markdown",
   "id": "annual-working",
   "metadata": {},
   "source": [
    "4.\tWrite a Python Program To Find ASCII value of a character?\n"
   ]
  },
  {
   "cell_type": "code",
   "execution_count": 6,
   "id": "organized-lafayette",
   "metadata": {},
   "outputs": [
    {
     "name": "stdout",
     "output_type": "stream",
     "text": [
      "Enter a chara\n",
      "The ASCII value of 'a' is 97\n"
     ]
    }
   ],
   "source": [
    "char = input('Enter a char')\n",
    "print(\"The ASCII value of '\" + char + \"' is\", ord(char))"
   ]
  },
  {
   "cell_type": "code",
   "execution_count": 10,
   "id": "bronze-nursery",
   "metadata": {},
   "outputs": [],
   "source": [
    "#### Trying out string"
   ]
  },
  {
   "cell_type": "code",
   "execution_count": 8,
   "id": "accredited-sandwich",
   "metadata": {},
   "outputs": [
    {
     "name": "stdout",
     "output_type": "stream",
     "text": [
      "code = {} 103\n",
      "code = {} 101\n",
      "code = {} 101\n",
      "code = {} 116\n",
      "code = {} 97\n"
     ]
    }
   ],
   "source": [
    "mystr = 'geeta'\n",
    "for code in mystr :\n",
    "    code = ord(code)\n",
    "    print('code = {}',code)"
   ]
  },
  {
   "cell_type": "code",
   "execution_count": 9,
   "id": "acoustic-humanity",
   "metadata": {},
   "outputs": [
    {
     "name": "stdout",
     "output_type": "stream",
     "text": [
      "103\n",
      "101\n",
      "101\n",
      "116\n",
      "97\n"
     ]
    }
   ],
   "source": [
    "for code in map(ord,mystr):\n",
    "    print(code)"
   ]
  },
  {
   "cell_type": "markdown",
   "id": "durable-techno",
   "metadata": {},
   "source": [
    "5.\tWrite a Python Program to Make a Simple Calculator with 4 basic mathematical operations"
   ]
  },
  {
   "cell_type": "code",
   "execution_count": 1,
   "id": "printable-application",
   "metadata": {},
   "outputs": [
    {
     "name": "stdout",
     "output_type": "stream",
     "text": [
      "Select operation.\n",
      "1.Add\n",
      "2.Subtract\n",
      "3.Multiply\n",
      "4.Divide\n",
      "Enter choice(1/2/3/4): 4\n",
      "Enter first number: 8\n",
      "Enter second number: 5\n",
      "8.0 / 5.0 = 1.6\n"
     ]
    }
   ],
   "source": [
    "# This function adds two numbers\n",
    "def add(x, y):\n",
    "    return x + y\n",
    "\n",
    "# This function subtracts two numbers\n",
    "def subtract(x, y):\n",
    "    return x - y\n",
    "\n",
    "# This function multiplies two numbers\n",
    "def multiply(x, y):\n",
    "    return x * y\n",
    "\n",
    "# This function divides two numbers\n",
    "def divide(x, y):\n",
    "    return x / y\n",
    "\n",
    "\n",
    "print(\"Select operation.\")\n",
    "print(\"1.Add\")\n",
    "print(\"2.Subtract\")\n",
    "print(\"3.Multiply\")\n",
    "print(\"4.Divide\")\n",
    "\n",
    "while True:\n",
    "    # Take input from the user\n",
    "    choice = input(\"Enter choice(1/2/3/4): \")\n",
    "\n",
    "    # Check if choice is one of the four options\n",
    "    if choice in ('1', '2', '3', '4'):\n",
    "        num1 = float(input(\"Enter first number: \"))\n",
    "        num2 = float(input(\"Enter second number: \"))\n",
    "\n",
    "        if choice == '1':\n",
    "            print(num1, \"+\", num2, \"=\", add(num1, num2))\n",
    "\n",
    "        elif choice == '2':\n",
    "            print(num1, \"-\", num2, \"=\", subtract(num1, num2))\n",
    "\n",
    "        elif choice == '3':\n",
    "            print(num1, \"*\", num2, \"=\", multiply(num1, num2))\n",
    "\n",
    "        elif choice == '4':\n",
    "            print(num1, \"/\", num2, \"=\", divide(num1, num2))\n",
    "        break\n",
    "    else:\n",
    "        print(\"Invalid Input\")"
   ]
  },
  {
   "cell_type": "code",
   "execution_count": null,
   "id": "equipped-height",
   "metadata": {},
   "outputs": [],
   "source": []
  }
 ],
 "metadata": {
  "kernelspec": {
   "display_name": "Python 3",
   "language": "python",
   "name": "python3"
  },
  "language_info": {
   "codemirror_mode": {
    "name": "ipython",
    "version": 3
   },
   "file_extension": ".py",
   "mimetype": "text/x-python",
   "name": "python",
   "nbconvert_exporter": "python",
   "pygments_lexer": "ipython3",
   "version": "3.9.1"
  }
 },
 "nbformat": 4,
 "nbformat_minor": 5
}
