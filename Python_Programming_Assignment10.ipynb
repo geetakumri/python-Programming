{
 "cells": [
  {
   "cell_type": "markdown",
   "id": "approximate-steering",
   "metadata": {},
   "source": [
    "1.\tWrite a Python program to find sum of elements in list?"
   ]
  },
  {
   "cell_type": "code",
   "execution_count": 3,
   "id": "spatial-footage",
   "metadata": {},
   "outputs": [
    {
     "name": "stdout",
     "output_type": "stream",
     "text": [
      "Enter the size: 5\n",
      "Enter Elements :\n",
      "1\n",
      "2\n",
      "3\n",
      "4\n",
      "5\n",
      "Sum is :  15\n"
     ]
    }
   ],
   "source": [
    "lst = []\n",
    "size = int(input('Enter the size: '))\n",
    "print('Enter Elements :')\n",
    "for i in range (0, size):\n",
    "    lst.append(int(input()))\n",
    "sum = 0\n",
    "for i in range(0,len(lst)):\n",
    "       sum+= lst[i]\n",
    "print('Sum is : ',sum)"
   ]
  },
  {
   "cell_type": "markdown",
   "id": "crucial-thong",
   "metadata": {},
   "source": [
    "2.\tWrite a Python program to  Multiply all numbers in the list?"
   ]
  },
  {
   "cell_type": "code",
   "execution_count": 5,
   "id": "incident-institution",
   "metadata": {},
   "outputs": [
    {
     "name": "stdout",
     "output_type": "stream",
     "text": [
      "Enter the size: 5\n",
      "Enter Elements :\n",
      "2\n",
      "3\n",
      "2\n",
      "2\n",
      "2\n",
      "Sum is :  48\n"
     ]
    }
   ],
   "source": [
    "lst = []\n",
    "size = int(input('Enter the size: '))\n",
    "print('Enter Elements :')\n",
    "for i in range (0, size):\n",
    "    lst.append(int(input()))\n",
    "sum = 1\n",
    "for i in range(0,len(lst)):\n",
    "       sum*= lst[i]\n",
    "print('Sum is : ',sum)"
   ]
  },
  {
   "cell_type": "markdown",
   "id": "mental-compensation",
   "metadata": {},
   "source": [
    "3.\tWrite a Python program to find smallest number in a list?"
   ]
  },
  {
   "cell_type": "code",
   "execution_count": 14,
   "id": "undefined-fourth",
   "metadata": {},
   "outputs": [
    {
     "name": "stdout",
     "output_type": "stream",
     "text": [
      "Enter the size: 5\n",
      "Enter Elements :\n",
      "2\n",
      "-56\n",
      "4\n",
      "5\n",
      "23\n",
      "Smallest number is :  -56\n"
     ]
    }
   ],
   "source": [
    "lst = []\n",
    "size = int(input('Enter the size: '))\n",
    "print('Enter Elements :')\n",
    "for i in range (0, size):\n",
    "    lst.append(int(input()))\n",
    "small = lst[0]\n",
    "for i in range(0,len(lst)):\n",
    "       if(lst[i]<small):\n",
    "            small = lst[i]\n",
    "print('Smallest number is : ',small)"
   ]
  },
  {
   "cell_type": "markdown",
   "id": "false-thesaurus",
   "metadata": {},
   "source": [
    "4.\tWrite a Python program to find largest number in a list?"
   ]
  },
  {
   "cell_type": "code",
   "execution_count": 16,
   "id": "backed-latest",
   "metadata": {},
   "outputs": [
    {
     "name": "stdout",
     "output_type": "stream",
     "text": [
      "Enter the size: 5\n",
      "Enter Elements :\n",
      "45\n",
      "-98\n",
      "9\n",
      "3\n",
      "4\n",
      "Largest number is :  45\n"
     ]
    }
   ],
   "source": [
    "lst = []\n",
    "size = int(input('Enter the size: '))\n",
    "print('Enter Elements :')\n",
    "for i in range (0, size):\n",
    "    lst.append(int(input()))\n",
    "large = lst[0]\n",
    "for i in range(0,len(lst)):\n",
    "       if(lst[i]>large):\n",
    "            large = lst[i]\n",
    "print('Largest number is : ',large)"
   ]
  },
  {
   "cell_type": "markdown",
   "id": "supreme-indie",
   "metadata": {},
   "source": [
    "5.\tWrite a Python program to find second largest number in a list?"
   ]
  },
  {
   "cell_type": "code",
   "execution_count": 4,
   "id": "voluntary-modem",
   "metadata": {},
   "outputs": [
    {
     "name": "stdout",
     "output_type": "stream",
     "text": [
      "Enter the size: 4\n",
      "Enter Elements :\n",
      "-7\n",
      "8\n",
      "3\n",
      "0\n",
      "Second highest number is the list is :  0\n"
     ]
    }
   ],
   "source": [
    "list1 = []\n",
    "size = int(input('Enter the size: '))\n",
    "print('Enter Elements :')\n",
    "for i in range (0, size):\n",
    "    list1 .append(int(input()))\n",
    "\n",
    "max = list1[0]\n",
    "second_max = list1[1]\n",
    "for i in range(2,len(list1)):\n",
    "   # if found element is greater than max\n",
    "   if list1[i]>max:\n",
    "        second_max =max\n",
    "        max=list1[i]\n",
    "   #if found element is greator than secondmax\n",
    "   else:\n",
    "        if list1[i]>second_max:\n",
    "            second_max=list1[i]\n",
    "print(\"Second highest number is the list is : \",str(second_max))"
   ]
  },
  {
   "cell_type": "markdown",
   "id": "patient-amendment",
   "metadata": {},
   "source": [
    "6.\tWrite a Python program to find N largest elements from a list?"
   ]
  },
  {
   "cell_type": "code",
   "execution_count": 27,
   "id": "determined-evans",
   "metadata": {
    "scrolled": true
   },
   "outputs": [
    {
     "name": "stdout",
     "output_type": "stream",
     "text": [
      "Enter the size: 5\n",
      "Enter Elements :\n",
      "1\n",
      "2\n",
      "3\n",
      "4\n",
      "5\n",
      "Enter value for N : 3\n"
     ]
    },
    {
     "ename": "TypeError",
     "evalue": "'int' object is not callable",
     "output_type": "error",
     "traceback": [
      "\u001b[1;31m---------------------------------------------------------------------------\u001b[0m",
      "\u001b[1;31mTypeError\u001b[0m                                 Traceback (most recent call last)",
      "\u001b[1;32m<ipython-input-27-6ae83a791046>\u001b[0m in \u001b[0;36m<module>\u001b[1;34m\u001b[0m\n\u001b[0;32m     14\u001b[0m     \u001b[0mlist1\u001b[0m \u001b[1;33m.\u001b[0m\u001b[0mappend\u001b[0m\u001b[1;33m(\u001b[0m\u001b[0mint\u001b[0m\u001b[1;33m(\u001b[0m\u001b[0minput\u001b[0m\u001b[1;33m(\u001b[0m\u001b[1;33m)\u001b[0m\u001b[1;33m)\u001b[0m\u001b[1;33m)\u001b[0m\u001b[1;33m\u001b[0m\u001b[1;33m\u001b[0m\u001b[0m\n\u001b[0;32m     15\u001b[0m \u001b[0mn\u001b[0m \u001b[1;33m=\u001b[0m \u001b[0mint\u001b[0m\u001b[1;33m(\u001b[0m\u001b[0minput\u001b[0m\u001b[1;33m(\u001b[0m\u001b[1;34m'Enter value for N : '\u001b[0m\u001b[1;33m)\u001b[0m\u001b[1;33m)\u001b[0m\u001b[1;33m\u001b[0m\u001b[1;33m\u001b[0m\u001b[0m\n\u001b[1;32m---> 16\u001b[1;33m \u001b[0mprint\u001b[0m\u001b[1;33m(\u001b[0m\u001b[0mmax_finder\u001b[0m\u001b[1;33m(\u001b[0m\u001b[0mlist1\u001b[0m\u001b[1;33m,\u001b[0m \u001b[0mn\u001b[0m\u001b[1;33m)\u001b[0m\u001b[1;33m)\u001b[0m\u001b[1;33m\u001b[0m\u001b[1;33m\u001b[0m\u001b[0m\n\u001b[0m",
      "\u001b[1;32m<ipython-input-27-6ae83a791046>\u001b[0m in \u001b[0;36mmax_finder\u001b[1;34m(lst, N)\u001b[0m\n\u001b[0;32m      2\u001b[0m     \u001b[0mresult_lst\u001b[0m \u001b[1;33m=\u001b[0m \u001b[0mlist\u001b[0m\u001b[1;33m(\u001b[0m\u001b[1;33m)\u001b[0m\u001b[1;33m\u001b[0m\u001b[1;33m\u001b[0m\u001b[0m\n\u001b[0;32m      3\u001b[0m     \u001b[1;32mwhile\u001b[0m \u001b[0mN\u001b[0m \u001b[1;33m>\u001b[0m \u001b[1;36m0\u001b[0m\u001b[1;33m:\u001b[0m\u001b[1;33m\u001b[0m\u001b[1;33m\u001b[0m\u001b[0m\n\u001b[1;32m----> 4\u001b[1;33m         \u001b[0mmax_value\u001b[0m \u001b[1;33m=\u001b[0m \u001b[0mmax\u001b[0m\u001b[1;33m(\u001b[0m\u001b[0mlst\u001b[0m\u001b[1;33m)\u001b[0m\u001b[1;33m\u001b[0m\u001b[1;33m\u001b[0m\u001b[0m\n\u001b[0m\u001b[0;32m      5\u001b[0m         \u001b[0mresult_lst\u001b[0m\u001b[1;33m.\u001b[0m\u001b[0mappend\u001b[0m\u001b[1;33m(\u001b[0m\u001b[0mmax_value\u001b[0m\u001b[1;33m)\u001b[0m\u001b[1;33m\u001b[0m\u001b[1;33m\u001b[0m\u001b[0m\n\u001b[0;32m      6\u001b[0m         \u001b[0mlst\u001b[0m\u001b[1;33m.\u001b[0m\u001b[0mremove\u001b[0m\u001b[1;33m(\u001b[0m\u001b[0mmax_value\u001b[0m\u001b[1;33m)\u001b[0m\u001b[1;33m\u001b[0m\u001b[1;33m\u001b[0m\u001b[0m\n",
      "\u001b[1;31mTypeError\u001b[0m: 'int' object is not callable"
     ]
    }
   ],
   "source": [
    "def max_finder(lst, N):\n",
    "    result_lst = list()\n",
    "    while N > 0:\n",
    "        max_value = max(lst)\n",
    "        result_lst.append(max_value)\n",
    "        lst.remove(max_value)\n",
    "        N-=1\n",
    "    return result_lst\n",
    "\n",
    "list1 = []\n",
    "size = int(input('Enter the size: '))\n",
    "print('Enter Elements :')\n",
    "for i in range (0, size):\n",
    "    list1 .append(int(input()))\n",
    "n = int(input('Enter value for N : '))\n",
    "print(max_finder(list1, n))"
   ]
  },
  {
   "cell_type": "markdown",
   "id": "absent-carry",
   "metadata": {},
   "source": [
    "7.\tWrite a Python program to print even numbers in a list?"
   ]
  },
  {
   "cell_type": "code",
   "execution_count": 33,
   "id": "literary-trustee",
   "metadata": {},
   "outputs": [
    {
     "name": "stdout",
     "output_type": "stream",
     "text": [
      "[2, 4, 6, 8, 10]\n"
     ]
    }
   ],
   "source": [
    "lst = [1,2,3,4,5,6,7,8,9,10]\n",
    "even_lst = list(filter(lambda x: x%2==0,lst))\n",
    "print(even_lst)"
   ]
  },
  {
   "cell_type": "markdown",
   "id": "productive-brown",
   "metadata": {},
   "source": [
    "8.\tWrite a Python program to print odd numbers in a List?"
   ]
  },
  {
   "cell_type": "code",
   "execution_count": 34,
   "id": "strategic-jacob",
   "metadata": {},
   "outputs": [
    {
     "name": "stdout",
     "output_type": "stream",
     "text": [
      "[1, 3, 5, 7, 9]\n"
     ]
    }
   ],
   "source": [
    "lst = [1,2,3,4,5,6,7,8,9,10]\n",
    "even_lst = list(filter(lambda x: x%2!=0,lst))\n",
    "print(even_lst)"
   ]
  },
  {
   "cell_type": "markdown",
   "id": "rubber-webcam",
   "metadata": {},
   "source": [
    "9.\tWrite a Python program to Remove empty List from List?"
   ]
  },
  {
   "cell_type": "code",
   "execution_count": 37,
   "id": "ranging-christmas",
   "metadata": {},
   "outputs": [
    {
     "name": "stdout",
     "output_type": "stream",
     "text": [
      "[1, 2, 'geeta', 4, 'ineuron']\n"
     ]
    }
   ],
   "source": [
    "list1 = [1,2 ,'geeta',[],4,'ineuron']\n",
    "new_lst = [l for l in list1 if l !=[]]\n",
    "print(new_lst)"
   ]
  },
  {
   "cell_type": "markdown",
   "id": "canadian-limit",
   "metadata": {},
   "source": [
    "10.\tWrite a Python program to Cloning or Copying a list?"
   ]
  },
  {
   "cell_type": "code",
   "execution_count": 38,
   "id": "municipal-alloy",
   "metadata": {},
   "outputs": [
    {
     "name": "stdout",
     "output_type": "stream",
     "text": [
      "[1, 2, 3, 'geeta', 'kumari']\n"
     ]
    }
   ],
   "source": [
    "list1 = [1,2,3,'geeta','kumari']\n",
    "lst = list1.copy()\n",
    "print(lst)"
   ]
  },
  {
   "cell_type": "markdown",
   "id": "amber-trustee",
   "metadata": {},
   "source": [
    "11.\tWrite a Python program to Count occurrences of an element in a list?"
   ]
  },
  {
   "cell_type": "code",
   "execution_count": null,
   "id": "offshore-somerset",
   "metadata": {},
   "outputs": [],
   "source": [
    " "
   ]
  }
 ],
 "metadata": {
  "kernelspec": {
   "display_name": "Python 3",
   "language": "python",
   "name": "python3"
  },
  "language_info": {
   "codemirror_mode": {
    "name": "ipython",
    "version": 3
   },
   "file_extension": ".py",
   "mimetype": "text/x-python",
   "name": "python",
   "nbconvert_exporter": "python",
   "pygments_lexer": "ipython3",
   "version": "3.9.1"
  }
 },
 "nbformat": 4,
 "nbformat_minor": 5
}
