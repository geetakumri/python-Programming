{
 "cells": [
  {
   "cell_type": "markdown",
   "metadata": {},
   "source": [
    "1.\tWrite a Python program to find sum of elements in list?"
   ]
  },
  {
   "cell_type": "code",
   "execution_count": 3,
   "metadata": {},
   "outputs": [
    {
     "name": "stdout",
     "output_type": "stream",
     "text": [
      "Enter the size: 5\n",
      "Enter Elements :\n",
      "1\n",
      "2\n",
      "3\n",
      "4\n",
      "5\n",
      "Sum is :  15\n"
     ]
    }
   ],
   "source": [
    "lst = []\n",
    "size = int(input('Enter the size: '))\n",
    "print('Enter Elements :')\n",
    "for i in range (0, size):\n",
    "    lst.append(int(input()))\n",
    "sum = 0\n",
    "for i in range(0,len(lst)):\n",
    "       sum+= lst[i]\n",
    "print('Sum is : ',sum)"
   ]
  },
  {
   "cell_type": "markdown",
   "metadata": {},
   "source": [
    "2.\tWrite a Python program to  Multiply all numbers in the list?"
   ]
  },
  {
   "cell_type": "code",
   "execution_count": 5,
   "metadata": {},
   "outputs": [
    {
     "name": "stdout",
     "output_type": "stream",
     "text": [
      "Enter the size: 5\n",
      "Enter Elements :\n",
      "2\n",
      "3\n",
      "2\n",
      "2\n",
      "2\n",
      "Sum is :  48\n"
     ]
    }
   ],
   "source": [
    "lst = []\n",
    "size = int(input('Enter the size: '))\n",
    "print('Enter Elements :')\n",
    "for i in range (0, size):\n",
    "    lst.append(int(input()))\n",
    "sum = 1\n",
    "for i in range(0,len(lst)):\n",
    "       sum*= lst[i]\n",
    "print('Sum is : ',sum)"
   ]
  },
  {
   "cell_type": "markdown",
   "metadata": {},
   "source": [
    "3.\tWrite a Python program to find smallest number in a list?"
   ]
  },
  {
   "cell_type": "code",
   "execution_count": 14,
   "metadata": {},
   "outputs": [
    {
     "name": "stdout",
     "output_type": "stream",
     "text": [
      "Enter the size: 5\n",
      "Enter Elements :\n",
      "2\n",
      "-56\n",
      "4\n",
      "5\n",
      "23\n",
      "Smallest number is :  -56\n"
     ]
    }
   ],
   "source": [
    "lst = []\n",
    "size = int(input('Enter the size: '))\n",
    "print('Enter Elements :')\n",
    "for i in range (0, size):\n",
    "    lst.append(int(input()))\n",
    "small = lst[0]\n",
    "for i in range(0,len(lst)):\n",
    "       if(lst[i]<small):\n",
    "            small = lst[i]\n",
    "print('Smallest number is : ',small)"
   ]
  },
  {
   "cell_type": "markdown",
   "metadata": {},
   "source": [
    "4.\tWrite a Python program to find largest number in a list?"
   ]
  },
  {
   "cell_type": "code",
   "execution_count": 16,
   "metadata": {},
   "outputs": [
    {
     "name": "stdout",
     "output_type": "stream",
     "text": [
      "Enter the size: 5\n",
      "Enter Elements :\n",
      "45\n",
      "-98\n",
      "9\n",
      "3\n",
      "4\n",
      "Largest number is :  45\n"
     ]
    }
   ],
   "source": [
    "lst = []\n",
    "size = int(input('Enter the size: '))\n",
    "print('Enter Elements :')\n",
    "for i in range (0, size):\n",
    "    lst.append(int(input()))\n",
    "large = lst[0]\n",
    "for i in range(0,len(lst)):\n",
    "       if(lst[i]>large):\n",
    "            large = lst[i]\n",
    "print('Largest number is : ',large)"
   ]
  },
  {
   "cell_type": "markdown",
   "metadata": {},
   "source": [
    "5.\tWrite a Python program to find second largest number in a list?"
   ]
  },
  {
   "cell_type": "code",
   "execution_count": 4,
   "metadata": {},
   "outputs": [
    {
     "name": "stdout",
     "output_type": "stream",
     "text": [
      "Enter the size: 4\n",
      "Enter Elements :\n",
      "-7\n",
      "8\n",
      "3\n",
      "0\n",
      "Second highest number is the list is :  0\n"
     ]
    }
   ],
   "source": [
    "list1 = []\n",
    "size = int(input('Enter the size: '))\n",
    "print('Enter Elements :')\n",
    "for i in range (0, size):\n",
    "    list1 .append(int(input()))\n",
    "\n",
    "max = list1[0]\n",
    "second_max = list1[1]\n",
    "for i in range(2,len(list1)):\n",
    "   # if found element is greater than max\n",
    "   if list1[i]>max:\n",
    "        second_max =max\n",
    "        max=list1[i]\n",
    "   #if found element is greator than secondmax\n",
    "   else:\n",
    "        if list1[i]>second_max:\n",
    "            second_max=list1[i]\n",
    "print(\"Second highest number is the list is : \",str(second_max))"
   ]
  },
  {
   "cell_type": "markdown",
   "metadata": {},
   "source": [
    "6.\tWrite a Python program to find N largest elements from a list?"
   ]
  },
  {
   "cell_type": "code",
   "execution_count": 3,
   "metadata": {
    "scrolled": true
   },
   "outputs": [
    {
     "name": "stdout",
     "output_type": "stream",
     "text": [
      "Enter the size: 5\n",
      "Enter Elements :\n",
      "1\n",
      "2\n",
      "3\n",
      "4\n",
      "5\n",
      "Enter value for N : 2\n",
      "[5, 4]\n"
     ]
    }
   ],
   "source": [
    "def max_finder(lst, n):\n",
    "    result_lst = list()\n",
    "    while n > 0:\n",
    "        max_value = max(lst)\n",
    "        result_lst.append(max_value)\n",
    "        lst.remove(max_value)\n",
    "        n-=1\n",
    "    return result_lst\n",
    "\n",
    "list1 = []\n",
    "size = int(input('Enter the size: '))\n",
    "print('Enter Elements :')\n",
    "for i in range (0, size):\n",
    "    list1 .append(int(input()))\n",
    "n = int(input('Enter value for N : '))\n",
    "print(max_finder(list1, n))"
   ]
  },
  {
   "cell_type": "markdown",
   "metadata": {},
   "source": [
    "7.\tWrite a Python program to print even numbers in a list?"
   ]
  },
  {
   "cell_type": "code",
   "execution_count": 33,
   "metadata": {},
   "outputs": [
    {
     "name": "stdout",
     "output_type": "stream",
     "text": [
      "[2, 4, 6, 8, 10]\n"
     ]
    }
   ],
   "source": [
    "lst = [1,2,3,4,5,6,7,8,9,10]\n",
    "even_lst = list(filter(lambda x: x%2==0,lst))\n",
    "print(even_lst)"
   ]
  },
  {
   "cell_type": "markdown",
   "metadata": {},
   "source": [
    "8.\tWrite a Python program to print odd numbers in a List?"
   ]
  },
  {
   "cell_type": "code",
   "execution_count": 34,
   "metadata": {},
   "outputs": [
    {
     "name": "stdout",
     "output_type": "stream",
     "text": [
      "[1, 3, 5, 7, 9]\n"
     ]
    }
   ],
   "source": [
    "lst = [1,2,3,4,5,6,7,8,9,10]\n",
    "even_lst = list(filter(lambda x: x%2!=0,lst))\n",
    "print(even_lst)"
   ]
  },
  {
   "cell_type": "markdown",
   "metadata": {},
   "source": [
    "9.\tWrite a Python program to Remove empty List from List?"
   ]
  },
  {
   "cell_type": "code",
   "execution_count": 37,
   "metadata": {},
   "outputs": [
    {
     "name": "stdout",
     "output_type": "stream",
     "text": [
      "[1, 2, 'geeta', 4, 'ineuron']\n"
     ]
    }
   ],
   "source": [
    "list1 = [1,2 ,'geeta',[],4,'ineuron']\n",
    "new_lst = [l for l in list1 if l !=[]]\n",
    "print(new_lst)"
   ]
  },
  {
   "cell_type": "markdown",
   "metadata": {},
   "source": [
    "10.\tWrite a Python program to Cloning or Copying a list?"
   ]
  },
  {
   "cell_type": "code",
   "execution_count": 38,
   "metadata": {},
   "outputs": [
    {
     "name": "stdout",
     "output_type": "stream",
     "text": [
      "[1, 2, 3, 'geeta', 'kumari']\n"
     ]
    }
   ],
   "source": [
    "list1 = [1,2,3,'geeta','kumari']\n",
    "lst = list1.copy()\n",
    "print(lst)"
   ]
  },
  {
   "cell_type": "markdown",
   "metadata": {},
   "source": [
    "11.\tWrite a Python program to Count occurrences of an element in a list?"
   ]
  },
  {
   "cell_type": "code",
   "execution_count": 18,
   "metadata": {},
   "outputs": [
    {
     "name": "stdout",
     "output_type": "stream",
     "text": [
      "Enter the size: 6\n",
      "Enter Elements :\n",
      "a\n",
      "r\n",
      "a\n",
      "f\n",
      "w\n",
      "1\n",
      "Enter the element : a\n",
      "The count is :  2\n"
     ]
    }
   ],
   "source": [
    "#lst = [1,2,1,3,4,2,4,5,3,1]\n",
    "#print(lst.count(1))\n",
    "lst = []\n",
    "size = int(input('Enter the size: '))\n",
    "print('Enter Elements :')\n",
    "for i in range (0, size):\n",
    "    lst.append((input()))\n",
    "cnt = lst.count((input('Enter the element : ')))\n",
    "print(\"The count is : \",cnt)"
   ]
  },
  {
   "cell_type": "code",
   "execution_count": null,
   "metadata": {},
   "outputs": [],
   "source": []
  }
 ],
 "metadata": {
  "kernelspec": {
   "display_name": "Python 3",
   "language": "python",
   "name": "python3"
  },
  "language_info": {
   "codemirror_mode": {
    "name": "ipython",
    "version": 3
   },
   "file_extension": ".py",
   "mimetype": "text/x-python",
   "name": "python",
   "nbconvert_exporter": "python",
   "pygments_lexer": "ipython3",
   "version": "3.7.3"
  }
 },
 "nbformat": 4,
 "nbformat_minor": 5
}
